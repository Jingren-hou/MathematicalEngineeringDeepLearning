{
 "cells": [
  {
   "cell_type": "markdown",
   "metadata": {},
   "source": [
    "# The Mathematical Engineering of Deep Learning\n",
    "\n",
    "## Practical 5 (Julia version)\n",
    "**For an R or Python version see the [course website](https://deeplearningmath.org/)**."
   ]
  },
  {
   "cell_type": "markdown",
   "metadata": {},
   "source": [
    "In this practical we deal with a reduced version of the CIFAR10 dataset and train convolutional neural networks. We use a small subset of the dataset to be able to compute things in sensbile time within the tutorial.\n",
    "\n",
    "The main focus is to see how \"to assemble\" different convolutional layers."
   ]
  },
  {
   "cell_type": "markdown",
   "metadata": {},
   "source": [
    "### CIFAR10\n",
    "See [CIFAR10 website](https://www.cs.toronto.edu/~kriz/cifar.html)"
   ]
  },
  {
   "cell_type": "code",
   "execution_count": 1,
   "metadata": {},
   "outputs": [
    {
     "name": "stdout",
     "output_type": "stream",
     "text": [
      "size(CIFAR10Fulltrain_x) = (32, 32, 3, 50000)\n"
     ]
    },
    {
     "data": {
      "text/plain": [
       "10-element Array{String,1}:\n",
       " \"airplane\"\n",
       " \"automobile\"\n",
       " \"bird\"\n",
       " \"cat\"\n",
       " \"deer\"\n",
       " \"dog\"\n",
       " \"frog\"\n",
       " \"horse\"\n",
       " \"ship\"\n",
       " \"truck\""
      ]
     },
     "execution_count": 1,
     "metadata": {},
     "output_type": "execute_result"
    }
   ],
   "source": [
    "using MLDatasets\n",
    "CIFAR10Fulltrain_x, CIFAR10Fulltrain_y = CIFAR10.traindata()\n",
    "CIFAR10Fulltest_x,  CIFAR10Fulltest_y  = CIFAR10.testdata()\n",
    "@show size(CIFAR10Fulltrain_x)\n",
    "classNames = CIFAR10.classnames()"
   ]
  },
  {
   "cell_type": "markdown",
   "metadata": {},
   "source": [
    "We consider only 3 classes - not all 10"
   ]
  },
  {
   "cell_type": "code",
   "execution_count": 2,
   "metadata": {},
   "outputs": [
    {
     "name": "stdout",
     "output_type": "stream",
     "text": [
      "length(CIFAR10Filteredtrain_y) = 15000\n",
      "length(CIFAR10Filteredtest_y) = 3000\n"
     ]
    }
   ],
   "source": [
    "#use only \"airplane\", \"cat\" and \"truck\" to make the problem \"easier and quicker\" for the practical\n",
    "usedLabels = [0,3,9]\n",
    "trainFilter = [y ∈ usedLabels for y in CIFAR10Fulltrain_y]  #use \\in +[TAB] to make ∈ (element of set checking)\n",
    "testFilter = [y ∈ usedLabels for y in CIFAR10Fulltest_y]\n",
    "CIFAR10Filteredtrain_x, CIFAR10Filteredtrain_y = CIFAR10Fulltrain_x[:,:,:,trainFilter], CIFAR10Fulltrain_y[trainFilter]\n",
    "CIFAR10Filteredtest_x,  CIFAR10Filteredtest_y  = CIFAR10Fulltest_x[:,:,:,testFilter],  CIFAR10Fulltest_y[testFilter];\n",
    "@show length(CIFAR10Filteredtrain_y)\n",
    "@show length(CIFAR10Filteredtest_y);"
   ]
  },
  {
   "cell_type": "markdown",
   "metadata": {},
   "source": [
    "We stay with a small training data size and validation data size - also due to time constraints. For testing we could use the full test set."
   ]
  },
  {
   "cell_type": "code",
   "execution_count": 3,
   "metadata": {},
   "outputs": [],
   "source": [
    "trainLength = 2000\n",
    "validateLength = 1000;\n",
    "trainRange = 1:trainLength\n",
    "validateRange = (trainLength+1):(trainLength+validateLength);"
   ]
  },
  {
   "cell_type": "code",
   "execution_count": 4,
   "metadata": {},
   "outputs": [],
   "source": [
    "#Creates the training, validation, and test sets \n",
    "using Flux: onehotbatch\n",
    "\n",
    "x_train = CIFAR10Filteredtrain_x[:,:,:,trainRange]\n",
    "x_validate = CIFAR10Filteredtrain_x[:,:,:,validateRange]\n",
    "x_test = CIFAR10Filteredtest_x\n",
    "\n",
    "y_train = onehotbatch(CIFAR10Filteredtrain_y[trainRange], usedLabels)\n",
    "y_validate = onehotbatch(CIFAR10Filteredtrain_y[validateRange], usedLabels)\n",
    "y_test = onehotbatch(CIFAR10Filteredtest_y, usedLabels);"
   ]
  },
  {
   "cell_type": "code",
   "execution_count": 5,
   "metadata": {},
   "outputs": [
    {
     "data": {
      "text/plain": [
       "40"
      ]
     },
     "execution_count": 5,
     "metadata": {},
     "output_type": "execute_result"
    }
   ],
   "source": [
    "#Setup training mini-batches\n",
    "using Flux: onehotbatch\n",
    "batchSize = 50\n",
    "\n",
    "x_train_batches = [x_train[:, :, :, r] for r in Iterators.partition(trainRange, batchSize)];\n",
    "y_train_batches = [y_train[:,r] for r in Iterators.partition(trainRange,batchSize)];\n",
    "\n",
    "numMiniBatches = length(x_train_batches)"
   ]
  },
  {
   "cell_type": "markdown",
   "metadata": {},
   "source": [
    "### A convolutional model"
   ]
  },
  {
   "cell_type": "markdown",
   "metadata": {},
   "source": [
    "We begin with a convolutional model that has two convolutional layers, some batch normalization, maxpooling, and dropout for the dense layers that follow."
   ]
  },
  {
   "cell_type": "code",
   "execution_count": 6,
   "metadata": {},
   "outputs": [
    {
     "data": {
      "text/plain": [
       "Chain(Conv((3, 3), 3=>8, relu), BatchNorm(8), #9, Conv((3, 3), 8=>4, relu), BatchNorm(4), #10, flatten, Dense(196, 80, relu), Dropout(0.5), Dense(80, 40, relu), Dropout(0.5), Dense(40, 3), softmax)"
      ]
     },
     "execution_count": 6,
     "metadata": {},
     "output_type": "execute_result"
    }
   ],
   "source": [
    "using Flux\n",
    "\n",
    "function buildModel1()\n",
    "    Chain(  #Assuming 32x32x3 input layer (like CIFAR10)\n",
    "      Conv((3, 3), 3 => 8, relu, pad=(1, 1), stride=(1, 1)),   #32x32x8 convolutional layer\n",
    "      BatchNorm(8),\n",
    "      x -> maxpool(x, (2, 2)),  #16x16x8\n",
    "      Conv((3, 3), 8 => 4, relu, pad=(0, 0), stride=(1, 1)), #14x14x4  convolutional layer\n",
    "      BatchNorm(4),\n",
    "      x -> maxpool(x, (2, 2)), #7x7x4 ,\n",
    "      flatten,  #196 neurons\n",
    "      Dense(196, 80, relu),\n",
    "      Dropout(0.5),\n",
    "      Dense(80, 40, relu), #40 neurons\n",
    "      Dropout(0.5),\n",
    "      Dense(40, 3), #3 output neruons\n",
    "      softmax)\n",
    "end\n",
    "\n",
    "model1 = buildModel1()"
   ]
  },
  {
   "cell_type": "markdown",
   "metadata": {},
   "source": [
    "To \"debug\" the model, it is good to consider one sample image from the data"
   ]
  },
  {
   "cell_type": "code",
   "execution_count": 7,
   "metadata": {},
   "outputs": [
    {
     "data": {
      "text/plain": [
       "32×32×3×1 Array{N0f8,4} with eltype FixedPointNumbers.Normed{UInt8,8}:\n",
       "[:, :, 1, 1] =\n",
       " 0.604  0.549  0.549  0.533  0.506  …  0.682  0.643  0.686  0.647  0.639\n",
       " 0.494  0.569  0.545  0.537  0.553     0.553  0.553  0.612  0.612  0.62\n",
       " 0.412  0.49   0.451  0.478  0.533     0.173  0.451  0.604  0.624  0.639\n",
       " 0.4    0.486  0.576  0.518  0.729     0.169  0.443  0.576  0.514  0.569\n",
       " 0.49   0.588  0.541  0.592  0.843     0.224  0.455  0.608  0.369  0.169\n",
       " 0.608  0.596  0.518  0.71   0.792  …  0.204  0.447  0.631  0.4    0.075\n",
       " 0.675  0.682  0.667  0.796  0.643     0.173  0.443  0.627  0.424  0.078\n",
       " 0.706  0.698  0.698  0.816  0.588     0.188  0.455  0.655  0.502  0.29\n",
       " 0.557  0.525  0.671  0.816  0.541     0.31   0.486  0.647  0.604  0.525\n",
       " 0.435  0.431  0.753  0.796  0.467     0.678  0.584  0.596  0.612  0.467\n",
       " 0.416  0.522  0.859  0.702  0.369  …  0.851  0.627  0.639  0.714  0.431\n",
       " 0.427  0.639  0.918  0.663  0.424     0.651  0.557  0.643  0.702  0.388\n",
       " 0.482  0.753  0.898  0.643  0.424     0.38   0.384  0.522  0.49   0.239\n",
       " ⋮                                  ⋱                       ⋮      \n",
       " 0.455  0.557  0.694  0.718  0.522  …  0.31   0.271  0.243  0.137  0.024\n",
       " 0.4    0.376  0.396  0.475  0.49      0.286  0.278  0.2    0.082  0.039\n",
       " 0.373  0.388  0.396  0.357  0.4       0.282  0.271  0.173  0.055  0.098\n",
       " 0.353  0.373  0.345  0.369  0.384     0.329  0.294  0.153  0.043  0.2\n",
       " 0.282  0.349  0.404  0.357  0.345     0.341  0.31   0.169  0.055  0.267\n",
       " 0.235  0.314  0.369  0.302  0.314  …  0.369  0.463  0.4    0.231  0.353\n",
       " 0.22   0.255  0.255  0.271  0.353     0.282  0.337  0.216  0.192  0.455\n",
       " 0.302  0.329  0.325  0.38   0.369     0.169  0.333  0.125  0.212  0.525\n",
       " 0.369  0.361  0.353  0.345  0.271     0.133  0.122  0.09   0.318  0.549\n",
       " 0.357  0.376  0.31   0.298  0.278     0.404  0.302  0.165  0.404  0.561\n",
       " 0.341  0.302  0.267  0.251  0.267  …  0.373  0.267  0.239  0.482  0.561\n",
       " 0.31   0.278  0.263  0.278  0.341     0.486  0.369  0.365  0.514  0.561\n",
       "\n",
       "[:, :, 2, 1] =\n",
       " 0.694  0.627  0.608  0.576  0.537  …  0.643  0.608  0.655  0.604  0.58\n",
       " 0.537  0.6    0.573  0.557  0.573     0.537  0.545  0.604  0.596  0.58\n",
       " 0.408  0.49   0.451  0.475  0.545     0.18   0.467  0.627  0.631  0.612\n",
       " 0.396  0.506  0.6    0.522  0.729     0.161  0.443  0.6    0.51   0.529\n",
       " 0.514  0.631  0.588  0.616  0.863     0.2    0.424  0.6    0.345  0.125\n",
       " 0.651  0.643  0.569  0.757  0.847  …  0.18   0.412  0.604  0.361  0.035\n",
       " 0.745  0.737  0.722  0.871  0.737     0.145  0.424  0.639  0.42   0.055\n",
       " 0.78   0.741  0.741  0.89   0.698     0.145  0.439  0.678  0.506  0.267\n",
       " 0.612  0.545  0.69   0.875  0.635     0.271  0.482  0.647  0.584  0.49\n",
       " 0.471  0.435  0.765  0.859  0.573     0.675  0.612  0.596  0.592  0.431\n",
       " 0.42   0.498  0.855  0.761  0.478  …  0.792  0.612  0.635  0.694  0.396\n",
       " 0.408  0.612  0.914  0.722  0.537     0.537  0.502  0.639  0.686  0.365\n",
       " 0.475  0.753  0.929  0.729  0.545     0.361  0.392  0.541  0.506  0.247\n",
       " ⋮                                  ⋱                       ⋮      \n",
       " 0.459  0.561  0.694  0.718  0.525  …  0.314  0.278  0.251  0.145  0.024\n",
       " 0.396  0.38   0.4    0.482  0.502     0.29   0.29   0.208  0.086  0.035\n",
       " 0.373  0.396  0.404  0.369  0.42      0.275  0.278  0.169  0.047  0.086\n",
       " 0.349  0.376  0.349  0.38   0.408     0.306  0.298  0.141  0.024  0.176\n",
       " 0.275  0.349  0.404  0.369  0.361     0.333  0.322  0.173  0.051  0.251\n",
       " 0.235  0.318  0.373  0.314  0.322  …  0.365  0.475  0.424  0.251  0.353\n",
       " 0.224  0.263  0.263  0.282  0.365     0.251  0.318  0.22   0.192  0.443\n",
       " 0.306  0.337  0.337  0.392  0.38      0.133  0.306  0.102  0.188  0.498\n",
       " 0.376  0.373  0.365  0.357  0.286     0.129  0.106  0.055  0.282  0.51\n",
       " 0.373  0.388  0.322  0.306  0.286     0.424  0.302  0.133  0.365  0.522\n",
       " 0.353  0.314  0.275  0.259  0.275  …  0.384  0.259  0.208  0.447  0.525\n",
       " 0.318  0.286  0.271  0.286  0.349     0.482  0.345  0.325  0.475  0.522\n",
       "\n",
       "[:, :, 3, 1] =\n",
       " 0.733  0.663  0.643  0.608  0.565  …  0.667  0.627  0.651  0.502  0.471\n",
       " 0.533  0.604  0.584  0.573  0.596     0.588  0.596  0.627  0.51   0.478\n",
       " 0.373  0.463  0.439  0.475  0.557     0.22   0.518  0.667  0.557  0.522\n",
       " 0.388  0.518  0.624  0.545  0.745     0.188  0.475  0.639  0.498  0.49\n",
       " 0.545  0.678  0.635  0.655  0.89      0.224  0.459  0.647  0.373  0.125\n",
       " 0.706  0.686  0.604  0.776  0.875  …  0.208  0.451  0.671  0.408  0.047\n",
       " 0.824  0.784  0.745  0.878  0.765     0.173  0.463  0.706  0.471  0.075\n",
       " 0.839  0.769  0.753  0.902  0.725     0.18   0.486  0.729  0.537  0.275\n",
       " 0.612  0.537  0.686  0.882  0.663     0.294  0.525  0.682  0.596  0.478\n",
       " 0.431  0.4    0.741  0.851  0.588     0.659  0.624  0.627  0.604  0.42\n",
       " 0.384  0.471  0.851  0.776  0.522  …  0.761  0.612  0.667  0.702  0.388\n",
       " 0.4    0.612  0.933  0.769  0.604     0.537  0.522  0.675  0.702  0.357\n",
       " 0.459  0.733  0.922  0.745  0.576     0.424  0.455  0.596  0.529  0.243\n",
       " ⋮                                  ⋱                       ⋮      \n",
       " 0.404  0.533  0.698  0.753  0.573  …  0.392  0.361  0.302  0.173  0.043\n",
       " 0.325  0.333  0.38   0.486  0.514     0.361  0.376  0.271  0.118  0.047\n",
       " 0.298  0.329  0.361  0.341  0.396     0.349  0.361  0.224  0.071  0.086\n",
       " 0.31   0.341  0.322  0.361  0.392     0.384  0.376  0.184  0.035  0.165\n",
       " 0.271  0.337  0.388  0.345  0.329     0.412  0.396  0.224  0.078  0.263\n",
       " 0.239  0.302  0.337  0.259  0.259  …  0.416  0.529  0.478  0.302  0.396\n",
       " 0.212  0.235  0.212  0.216  0.286     0.263  0.341  0.251  0.227  0.478\n",
       " 0.282  0.298  0.275  0.314  0.29      0.129  0.306  0.114  0.204  0.522\n",
       " 0.329  0.314  0.294  0.275  0.196     0.145  0.114  0.055  0.286  0.533\n",
       " 0.278  0.306  0.251  0.251  0.235     0.482  0.329  0.141  0.376  0.545\n",
       " 0.278  0.243  0.216  0.208  0.224  …  0.435  0.286  0.224  0.471  0.557\n",
       " 0.275  0.239  0.216  0.231  0.29      0.522  0.369  0.357  0.514  0.565"
      ]
     },
     "execution_count": 7,
     "metadata": {},
     "output_type": "execute_result"
    }
   ],
   "source": [
    "sampleImage = x_train_batches[1][:,:,:,1:1]"
   ]
  },
  {
   "cell_type": "code",
   "execution_count": 8,
   "metadata": {},
   "outputs": [
    {
     "name": "stderr",
     "output_type": "stream",
     "text": [
      "┌ Warning: Slow fallback implementation invoked for conv!  You probably don't want this; check your datatypes.\n",
      "│   yT = Float32\n",
      "│   T1 = FixedPointNumbers.Normed{UInt8,8}\n",
      "│   T2 = Float32\n",
      "└ @ NNlib /Users/uqjnazar/.julia/packages/NNlib/1WXEb/src/conv.jl:206\n"
     ]
    },
    {
     "data": {
      "text/plain": [
       "3×1 Array{Float32,2}:\n",
       " 0.4535127\n",
       " 0.24610636\n",
       " 0.300381"
      ]
     },
     "execution_count": 8,
     "metadata": {},
     "output_type": "execute_result"
    }
   ],
   "source": [
    "#The output of the (untrained) modle on the sample image\n",
    "model1(sampleImage)"
   ]
  },
  {
   "cell_type": "code",
   "execution_count": 9,
   "metadata": {},
   "outputs": [
    {
     "data": {
      "text/plain": [
       "13"
      ]
     },
     "execution_count": 9,
     "metadata": {},
     "output_type": "execute_result"
    }
   ],
   "source": [
    "length(model1) #The number of `layers`"
   ]
  },
  {
   "cell_type": "code",
   "execution_count": 10,
   "metadata": {},
   "outputs": [
    {
     "name": "stdout",
     "output_type": "stream",
     "text": [
      "Output after 1 layers"
     ]
    },
    {
     "data": {
      "text/plain": [
       "(32, 32, 8, 1)"
      ]
     },
     "metadata": {},
     "output_type": "display_data"
    },
    {
     "name": "stdout",
     "output_type": "stream",
     "text": [
      "Output after 2 layers"
     ]
    },
    {
     "data": {
      "text/plain": [
       "(32, 32, 8, 1)"
      ]
     },
     "metadata": {},
     "output_type": "display_data"
    },
    {
     "name": "stdout",
     "output_type": "stream",
     "text": [
      "Output after 3 layers"
     ]
    },
    {
     "data": {
      "text/plain": [
       "(16, 16, 8, 1)"
      ]
     },
     "metadata": {},
     "output_type": "display_data"
    },
    {
     "name": "stdout",
     "output_type": "stream",
     "text": [
      "Output after 4 layers"
     ]
    },
    {
     "data": {
      "text/plain": [
       "(14, 14, 4, 1)"
      ]
     },
     "metadata": {},
     "output_type": "display_data"
    },
    {
     "name": "stdout",
     "output_type": "stream",
     "text": [
      "Output after 5 layers"
     ]
    },
    {
     "data": {
      "text/plain": [
       "(14, 14, 4, 1)"
      ]
     },
     "metadata": {},
     "output_type": "display_data"
    },
    {
     "name": "stdout",
     "output_type": "stream",
     "text": [
      "Output after 6 layers"
     ]
    },
    {
     "data": {
      "text/plain": [
       "(7, 7, 4, 1)"
      ]
     },
     "metadata": {},
     "output_type": "display_data"
    },
    {
     "name": "stdout",
     "output_type": "stream",
     "text": [
      "Output after 7 layers"
     ]
    },
    {
     "data": {
      "text/plain": [
       "(196, 1)"
      ]
     },
     "metadata": {},
     "output_type": "display_data"
    },
    {
     "name": "stdout",
     "output_type": "stream",
     "text": [
      "Output after 8 layers"
     ]
    },
    {
     "data": {
      "text/plain": [
       "(80, 1)"
      ]
     },
     "metadata": {},
     "output_type": "display_data"
    },
    {
     "name": "stdout",
     "output_type": "stream",
     "text": [
      "Output after 9 layers"
     ]
    },
    {
     "data": {
      "text/plain": [
       "(80, 1)"
      ]
     },
     "metadata": {},
     "output_type": "display_data"
    },
    {
     "name": "stdout",
     "output_type": "stream",
     "text": [
      "Output after 10 layers"
     ]
    },
    {
     "data": {
      "text/plain": [
       "(40, 1)"
      ]
     },
     "metadata": {},
     "output_type": "display_data"
    },
    {
     "name": "stdout",
     "output_type": "stream",
     "text": [
      "Output after 11 layers"
     ]
    },
    {
     "data": {
      "text/plain": [
       "(40, 1)"
      ]
     },
     "metadata": {},
     "output_type": "display_data"
    },
    {
     "name": "stdout",
     "output_type": "stream",
     "text": [
      "Output after 12 layers"
     ]
    },
    {
     "data": {
      "text/plain": [
       "(3, 1)"
      ]
     },
     "metadata": {},
     "output_type": "display_data"
    },
    {
     "name": "stdout",
     "output_type": "stream",
     "text": [
      "Output after 13 layers"
     ]
    },
    {
     "data": {
      "text/plain": [
       "(3, 1)"
      ]
     },
     "metadata": {},
     "output_type": "display_data"
    }
   ],
   "source": [
    "#This function just debugs layer by layer.\n",
    "function debugModel(model)\n",
    "    for topLayer = 1:length(model)\n",
    "        print(\"Output after $topLayer layers\"); flush(stdout)\n",
    "        outputSize = size(model[1:topLayer](sampleImage))\n",
    "        display(outputSize)\n",
    "    end\n",
    "end\n",
    "debugModel(model1)"
   ]
  },
  {
   "cell_type": "markdown",
   "metadata": {},
   "source": [
    "**Task 1**: Modify the model to have (5x5) convolutions in the first laye and no max pooling layer after the second convolutional layer. You'll need to update the number of neurons in the dense layers. The use `debugModel()` to print the size evolution of your model. Call this model, `model2`."
   ]
  },
  {
   "cell_type": "markdown",
   "metadata": {},
   "source": [
    "### Training"
   ]
  },
  {
   "cell_type": "markdown",
   "metadata": {},
   "source": [
    "We now train the model using basic functions of `Flux.jl`"
   ]
  },
  {
   "cell_type": "code",
   "execution_count": 11,
   "metadata": {},
   "outputs": [
    {
     "data": {
      "text/plain": [
       "loss (generic function with 1 method)"
      ]
     },
     "execution_count": 11,
     "metadata": {},
     "output_type": "execute_result"
    }
   ],
   "source": [
    "#define the loss. function\n",
    "using Flux\n",
    "using Flux: crossentropy\n",
    "loss(x, y, model) = crossentropy(model(x), y)"
   ]
  },
  {
   "cell_type": "code",
   "execution_count": 12,
   "metadata": {},
   "outputs": [
    {
     "data": {
      "text/plain": [
       "1.1650336f0"
      ]
     },
     "execution_count": 12,
     "metadata": {},
     "output_type": "execute_result"
    }
   ],
   "source": [
    "loss(x_train_batches[1],y_train_batches[1],model1) #Loss on first batch"
   ]
  },
  {
   "cell_type": "code",
   "execution_count": 13,
   "metadata": {},
   "outputs": [
    {
     "data": {
      "text/plain": [
       "1.1277844f0"
      ]
     },
     "execution_count": 13,
     "metadata": {},
     "output_type": "execute_result"
    }
   ],
   "source": [
    "loss(x_train,y_train,model1) #Loss on all the training data"
   ]
  },
  {
   "cell_type": "code",
   "execution_count": 14,
   "metadata": {},
   "outputs": [
    {
     "data": {
      "text/plain": [
       "accuracy (generic function with 1 method)"
      ]
     },
     "execution_count": 14,
     "metadata": {},
     "output_type": "execute_result"
    }
   ],
   "source": [
    "#define the accuracy function\n",
    "using Flux: onecold\n",
    "using Statistics\n",
    "accuracy(x, y, model) = mean(onecold(model(x)) .== onecold(y))"
   ]
  },
  {
   "cell_type": "code",
   "execution_count": 15,
   "metadata": {},
   "outputs": [
    {
     "data": {
      "text/plain": [
       "0.338"
      ]
     },
     "execution_count": 15,
     "metadata": {},
     "output_type": "execute_result"
    }
   ],
   "source": [
    "accuracy(x_validate,y_validate,model1) #should be around 0.33 as model is garbage at this point"
   ]
  },
  {
   "cell_type": "code",
   "execution_count": 16,
   "metadata": {},
   "outputs": [
    {
     "name": "stderr",
     "output_type": "stream",
     "text": [
      "┌ Warning: Slow fallback implementation invoked for ∇conv_filter!  You probably don't want this; check your datatypes.\n",
      "│   yT = Float32\n",
      "│   T1 = FixedPointNumbers.Normed{UInt8,8}\n",
      "│   T2 = Float32\n",
      "└ @ NNlib /Users/uqjnazar/.julia/packages/NNlib/1WXEb/src/conv.jl:206\n"
     ]
    },
    {
     "data": {
      "text/plain": [
       "Grads(...)"
      ]
     },
     "execution_count": 16,
     "metadata": {},
     "output_type": "execute_result"
    }
   ],
   "source": [
    "#example of computing the gradient (automatic differentiantion) on the first minibatch\n",
    "gs = gradient(()->loss(x_train_batches[1],y_train_batches[1],model1),params(model1))"
   ]
  },
  {
   "cell_type": "code",
   "execution_count": 17,
   "metadata": {},
   "outputs": [],
   "source": [
    "#Example of a single update step of the optimizer\n",
    "using Flux: update!\n",
    "η = 0.002\n",
    "opt = ADAM(η)\n",
    "update!(opt,params(model1),gs)"
   ]
  },
  {
   "cell_type": "markdown",
   "metadata": {},
   "source": [
    "### A training loop"
   ]
  },
  {
   "cell_type": "markdown",
   "metadata": {},
   "source": [
    "Now we use the above for a simple training loop. On each epoch we print:\n",
    "* The epoch number\n",
    "* The wall time\n",
    "* The accuracy computed on the validation set\n",
    "* The loss (computed on the training set)"
   ]
  },
  {
   "cell_type": "code",
   "execution_count": 18,
   "metadata": {},
   "outputs": [
    {
     "data": {
      "text/plain": [
       "trainModel (generic function with 1 method)"
      ]
     },
     "execution_count": 18,
     "metadata": {},
     "output_type": "execute_result"
    }
   ],
   "source": [
    "using Dates\n",
    "function trainModel(model; epochs = 20, η = 0.005)\n",
    "    opt = ADAM(η)\n",
    "    for ep in 1:epochs #Loop over epochs\n",
    "        \n",
    "        for bi in 1:numMiniBatches #Loop over minibatches\n",
    "            gs = gradient(()->loss(x_train_batches[bi],y_train_batches[bi],model),params(model))\n",
    "            update!(opt,params(model),gs)\n",
    "        end\n",
    "        \n",
    "        acc = accuracy(x_validate,y_validate,model)\n",
    "        ls = loss(x_train,y_train,model)\n",
    "        time = Dates.format(now(), \"HH:MM:SS\")\n",
    "        @show ep, time, acc, ls\n",
    "    end\n",
    "    \n",
    "    return model\n",
    "end"
   ]
  },
  {
   "cell_type": "markdown",
   "metadata": {},
   "source": [
    "This now trains a model of type \"model 1\":"
   ]
  },
  {
   "cell_type": "code",
   "execution_count": 19,
   "metadata": {},
   "outputs": [
    {
     "name": "stdout",
     "output_type": "stream",
     "text": [
      "(ep, time, acc, ls) = (1, \"13:54:02\", 0.687, 0.7573454f0)\n",
      "(ep, time, acc, ls) = (2, \"13:54:05\", 0.739, 0.6191718f0)\n",
      "(ep, time, acc, ls) = (3, \"13:54:08\", 0.691, 0.6556853f0)\n",
      "(ep, time, acc, ls) = (4, \"13:54:10\", 0.757, 0.53277296f0)\n",
      "(ep, time, acc, ls) = (5, \"13:54:13\", 0.789, 0.46652973f0)\n",
      "(ep, time, acc, ls) = (6, \"13:54:16\", 0.687, 0.7402028f0)\n",
      "(ep, time, acc, ls) = (7, \"13:54:18\", 0.759, 0.43927184f0)\n",
      "(ep, time, acc, ls) = (8, \"13:54:21\", 0.773, 0.4134666f0)\n",
      "(ep, time, acc, ls) = (9, \"13:54:24\", 0.791, 0.4024978f0)\n",
      "(ep, time, acc, ls) = (10, \"13:54:27\", 0.759, 0.42915374f0)\n",
      "(ep, time, acc, ls) = (11, \"13:54:29\", 0.731, 0.4409029f0)\n",
      "(ep, time, acc, ls) = (12, \"13:54:32\", 0.776, 0.47186705f0)\n",
      "(ep, time, acc, ls) = (13, \"13:54:35\", 0.83, 0.28917652f0)\n",
      "(ep, time, acc, ls) = (14, \"13:54:38\", 0.807, 0.28920612f0)\n",
      "(ep, time, acc, ls) = (15, \"13:54:41\", 0.821, 0.23868848f0)\n",
      "(ep, time, acc, ls) = (16, \"13:54:43\", 0.772, 0.29802668f0)\n",
      "(ep, time, acc, ls) = (17, \"13:54:46\", 0.746, 0.39033332f0)\n",
      "(ep, time, acc, ls) = (18, \"13:54:49\", 0.813, 0.22639628f0)\n",
      "(ep, time, acc, ls) = (19, \"13:54:52\", 0.684, 0.58904743f0)\n",
      "(ep, time, acc, ls) = (20, \"13:54:55\", 0.74, 0.41309875f0)\n"
     ]
    },
    {
     "data": {
      "text/plain": [
       "Chain(Conv((3, 3), 3=>8, relu), BatchNorm(8), #9, Conv((3, 3), 8=>4, relu), BatchNorm(4), #10, flatten, Dense(196, 80, relu), Dropout(0.5), Dense(80, 40, relu), Dropout(0.5), Dense(40, 3), softmax)"
      ]
     },
     "execution_count": 19,
     "metadata": {},
     "output_type": "execute_result"
    }
   ],
   "source": [
    "trainedModel = trainModel(buildModel1())"
   ]
  },
  {
   "cell_type": "markdown",
   "metadata": {},
   "source": [
    "### Testing"
   ]
  },
  {
   "cell_type": "code",
   "execution_count": 22,
   "metadata": {},
   "outputs": [
    {
     "data": {
      "text/plain": [
       "testModel (generic function with 1 method)"
      ]
     },
     "execution_count": 22,
     "metadata": {},
     "output_type": "execute_result"
    }
   ],
   "source": [
    "#This is the testing function\n",
    "testModel(model) = accuracy(x_test,y_test,model)"
   ]
  },
  {
   "cell_type": "code",
   "execution_count": 23,
   "metadata": {},
   "outputs": [
    {
     "data": {
      "text/plain": [
       "0.7516666666666667"
      ]
     },
     "execution_count": 23,
     "metadata": {},
     "output_type": "execute_result"
    }
   ],
   "source": [
    "testModel(trainedModel)"
   ]
  },
  {
   "cell_type": "markdown",
   "metadata": {},
   "source": [
    "**Task 2**: Attempt to create a different model archiecture - use two additional convolutional layer. Try to maximize the validation accuracy and we'll see in class who gets the best test accuracy (you can only check the test accuracy once)."
   ]
  },
  {
   "cell_type": "markdown",
   "metadata": {},
   "source": [
    "# Extra: Some Localization"
   ]
  },
  {
   "cell_type": "code",
   "execution_count": 24,
   "metadata": {},
   "outputs": [
    {
     "name": "stdout",
     "output_type": "stream",
     "text": [
      "size(digitsMNISTtrain_x) = (28, 28, 60000)\n",
      "size(digitsMNISTtest_x) = (28, 28, 10000)\n",
      "digitsMNISTtrain_y[1] = 5\n"
     ]
    },
    {
     "data": {
      "image/svg+xml": [
       "<?xml version=\"1.0\" encoding=\"UTF-8\"?>\n",
       "<!DOCTYPE svg PUBLIC \"-//W3C//DTD SVG 1.1//EN\"\n",
       " \"http://www.w3.org/Graphics/SVG/1.1/DTD/svg11.dtd\">\n",
       "<svg xmlns=\"http://www.w3.org/2000/svg\" version=\"1.1\"\n",
       "     width=\"150mm\" height=\"150mm\"\n",
       "     viewBox=\"0 0 28 28\" preserveAspectRatio=\"none\"\n",
       "     shape-rendering=\"crispEdges\" stroke=\"none\">\n",
       "<rect width=\".81\" height=\".81\" x=\"0\" y=\"0\" fill=\"#000000\" />\n",
       "<rect width=\".81\" height=\".81\" x=\"1\" y=\"0\" fill=\"#000000\" />\n",
       "<rect width=\".81\" height=\".81\" x=\"2\" y=\"0\" fill=\"#000000\" />\n",
       "<rect width=\".81\" height=\".81\" x=\"3\" y=\"0\" fill=\"#000000\" />\n",
       "<rect width=\".81\" height=\".81\" x=\"4\" y=\"0\" fill=\"#000000\" />\n",
       "<rect width=\".81\" height=\".81\" x=\"5\" y=\"0\" fill=\"#000000\" />\n",
       "<rect width=\".81\" height=\".81\" x=\"6\" y=\"0\" fill=\"#000000\" />\n",
       "<rect width=\".81\" height=\".81\" x=\"7\" y=\"0\" fill=\"#000000\" />\n",
       "<rect width=\".81\" height=\".81\" x=\"8\" y=\"0\" fill=\"#000000\" />\n",
       "<rect width=\".81\" height=\".81\" x=\"9\" y=\"0\" fill=\"#000000\" />\n",
       "<rect width=\".81\" height=\".81\" x=\"10\" y=\"0\" fill=\"#000000\" />\n",
       "<rect width=\".81\" height=\".81\" x=\"11\" y=\"0\" fill=\"#000000\" />\n",
       "<rect width=\".81\" height=\".81\" x=\"12\" y=\"0\" fill=\"#000000\" />\n",
       "<rect width=\".81\" height=\".81\" x=\"13\" y=\"0\" fill=\"#000000\" />\n",
       "<rect width=\".81\" height=\".81\" x=\"14\" y=\"0\" fill=\"#000000\" />\n",
       "<rect width=\".81\" height=\".81\" x=\"15\" y=\"0\" fill=\"#000000\" />\n",
       "<rect width=\".81\" height=\".81\" x=\"16\" y=\"0\" fill=\"#000000\" />\n",
       "<rect width=\".81\" height=\".81\" x=\"17\" y=\"0\" fill=\"#000000\" />\n",
       "<rect width=\".81\" height=\".81\" x=\"18\" y=\"0\" fill=\"#000000\" />\n",
       "<rect width=\".81\" height=\".81\" x=\"19\" y=\"0\" fill=\"#000000\" />\n",
       "<rect width=\".81\" height=\".81\" x=\"20\" y=\"0\" fill=\"#000000\" />\n",
       "<rect width=\".81\" height=\".81\" x=\"21\" y=\"0\" fill=\"#000000\" />\n",
       "<rect width=\".81\" height=\".81\" x=\"22\" y=\"0\" fill=\"#000000\" />\n",
       "<rect width=\".81\" height=\".81\" x=\"23\" y=\"0\" fill=\"#000000\" />\n",
       "<rect width=\".81\" height=\".81\" x=\"24\" y=\"0\" fill=\"#000000\" />\n",
       "<rect width=\".81\" height=\".81\" x=\"25\" y=\"0\" fill=\"#000000\" />\n",
       "<rect width=\".81\" height=\".81\" x=\"26\" y=\"0\" fill=\"#000000\" />\n",
       "<rect width=\".81\" height=\".81\" x=\"27\" y=\"0\" fill=\"#000000\" />\n",
       "<rect width=\".81\" height=\".81\" x=\"0\" y=\"1\" fill=\"#000000\" />\n",
       "<rect width=\".81\" height=\".81\" x=\"1\" y=\"1\" fill=\"#000000\" />\n",
       "<rect width=\".81\" height=\".81\" x=\"2\" y=\"1\" fill=\"#000000\" />\n",
       "<rect width=\".81\" height=\".81\" x=\"3\" y=\"1\" fill=\"#000000\" />\n",
       "<rect width=\".81\" height=\".81\" x=\"4\" y=\"1\" fill=\"#000000\" />\n",
       "<rect width=\".81\" height=\".81\" x=\"5\" y=\"1\" fill=\"#000000\" />\n",
       "<rect width=\".81\" height=\".81\" x=\"6\" y=\"1\" fill=\"#000000\" />\n",
       "<rect width=\".81\" height=\".81\" x=\"7\" y=\"1\" fill=\"#000000\" />\n",
       "<rect width=\".81\" height=\".81\" x=\"8\" y=\"1\" fill=\"#000000\" />\n",
       "<rect width=\".81\" height=\".81\" x=\"9\" y=\"1\" fill=\"#000000\" />\n",
       "<rect width=\".81\" height=\".81\" x=\"10\" y=\"1\" fill=\"#000000\" />\n",
       "<rect width=\".81\" height=\".81\" x=\"11\" y=\"1\" fill=\"#000000\" />\n",
       "<rect width=\".81\" height=\".81\" x=\"12\" y=\"1\" fill=\"#000000\" />\n",
       "<rect width=\".81\" height=\".81\" x=\"13\" y=\"1\" fill=\"#000000\" />\n",
       "<rect width=\".81\" height=\".81\" x=\"14\" y=\"1\" fill=\"#000000\" />\n",
       "<rect width=\".81\" height=\".81\" x=\"15\" y=\"1\" fill=\"#000000\" />\n",
       "<rect width=\".81\" height=\".81\" x=\"16\" y=\"1\" fill=\"#000000\" />\n",
       "<rect width=\".81\" height=\".81\" x=\"17\" y=\"1\" fill=\"#000000\" />\n",
       "<rect width=\".81\" height=\".81\" x=\"18\" y=\"1\" fill=\"#000000\" />\n",
       "<rect width=\".81\" height=\".81\" x=\"19\" y=\"1\" fill=\"#000000\" />\n",
       "<rect width=\".81\" height=\".81\" x=\"20\" y=\"1\" fill=\"#000000\" />\n",
       "<rect width=\".81\" height=\".81\" x=\"21\" y=\"1\" fill=\"#000000\" />\n",
       "<rect width=\".81\" height=\".81\" x=\"22\" y=\"1\" fill=\"#000000\" />\n",
       "<rect width=\".81\" height=\".81\" x=\"23\" y=\"1\" fill=\"#000000\" />\n",
       "<rect width=\".81\" height=\".81\" x=\"24\" y=\"1\" fill=\"#000000\" />\n",
       "<rect width=\".81\" height=\".81\" x=\"25\" y=\"1\" fill=\"#000000\" />\n",
       "<rect width=\".81\" height=\".81\" x=\"26\" y=\"1\" fill=\"#000000\" />\n",
       "<rect width=\".81\" height=\".81\" x=\"27\" y=\"1\" fill=\"#000000\" />\n",
       "<rect width=\".81\" height=\".81\" x=\"0\" y=\"2\" fill=\"#000000\" />\n",
       "<rect width=\".81\" height=\".81\" x=\"1\" y=\"2\" fill=\"#000000\" />\n",
       "<rect width=\".81\" height=\".81\" x=\"2\" y=\"2\" fill=\"#000000\" />\n",
       "<rect width=\".81\" height=\".81\" x=\"3\" y=\"2\" fill=\"#000000\" />\n",
       "<rect width=\".81\" height=\".81\" x=\"4\" y=\"2\" fill=\"#000000\" />\n",
       "<rect width=\".81\" height=\".81\" x=\"5\" y=\"2\" fill=\"#000000\" />\n",
       "<rect width=\".81\" height=\".81\" x=\"6\" y=\"2\" fill=\"#000000\" />\n",
       "<rect width=\".81\" height=\".81\" x=\"7\" y=\"2\" fill=\"#000000\" />\n",
       "<rect width=\".81\" height=\".81\" x=\"8\" y=\"2\" fill=\"#000000\" />\n",
       "<rect width=\".81\" height=\".81\" x=\"9\" y=\"2\" fill=\"#000000\" />\n",
       "<rect width=\".81\" height=\".81\" x=\"10\" y=\"2\" fill=\"#000000\" />\n",
       "<rect width=\".81\" height=\".81\" x=\"11\" y=\"2\" fill=\"#000000\" />\n",
       "<rect width=\".81\" height=\".81\" x=\"12\" y=\"2\" fill=\"#000000\" />\n",
       "<rect width=\".81\" height=\".81\" x=\"13\" y=\"2\" fill=\"#000000\" />\n",
       "<rect width=\".81\" height=\".81\" x=\"14\" y=\"2\" fill=\"#000000\" />\n",
       "<rect width=\".81\" height=\".81\" x=\"15\" y=\"2\" fill=\"#000000\" />\n",
       "<rect width=\".81\" height=\".81\" x=\"16\" y=\"2\" fill=\"#000000\" />\n",
       "<rect width=\".81\" height=\".81\" x=\"17\" y=\"2\" fill=\"#000000\" />\n",
       "<rect width=\".81\" height=\".81\" x=\"18\" y=\"2\" fill=\"#000000\" />\n",
       "<rect width=\".81\" height=\".81\" x=\"19\" y=\"2\" fill=\"#000000\" />\n",
       "<rect width=\".81\" height=\".81\" x=\"20\" y=\"2\" fill=\"#000000\" />\n",
       "<rect width=\".81\" height=\".81\" x=\"21\" y=\"2\" fill=\"#000000\" />\n",
       "<rect width=\".81\" height=\".81\" x=\"22\" y=\"2\" fill=\"#000000\" />\n",
       "<rect width=\".81\" height=\".81\" x=\"23\" y=\"2\" fill=\"#000000\" />\n",
       "<rect width=\".81\" height=\".81\" x=\"24\" y=\"2\" fill=\"#000000\" />\n",
       "<rect width=\".81\" height=\".81\" x=\"25\" y=\"2\" fill=\"#000000\" />\n",
       "<rect width=\".81\" height=\".81\" x=\"26\" y=\"2\" fill=\"#000000\" />\n",
       "<rect width=\".81\" height=\".81\" x=\"27\" y=\"2\" fill=\"#000000\" />\n",
       "<rect width=\".81\" height=\".81\" x=\"0\" y=\"3\" fill=\"#000000\" />\n",
       "<rect width=\".81\" height=\".81\" x=\"1\" y=\"3\" fill=\"#000000\" />\n",
       "<rect width=\".81\" height=\".81\" x=\"2\" y=\"3\" fill=\"#000000\" />\n",
       "<rect width=\".81\" height=\".81\" x=\"3\" y=\"3\" fill=\"#000000\" />\n",
       "<rect width=\".81\" height=\".81\" x=\"4\" y=\"3\" fill=\"#000000\" />\n",
       "<rect width=\".81\" height=\".81\" x=\"5\" y=\"3\" fill=\"#000000\" />\n",
       "<rect width=\".81\" height=\".81\" x=\"6\" y=\"3\" fill=\"#000000\" />\n",
       "<rect width=\".81\" height=\".81\" x=\"7\" y=\"3\" fill=\"#000000\" />\n",
       "<rect width=\".81\" height=\".81\" x=\"8\" y=\"3\" fill=\"#000000\" />\n",
       "<rect width=\".81\" height=\".81\" x=\"9\" y=\"3\" fill=\"#000000\" />\n",
       "<rect width=\".81\" height=\".81\" x=\"10\" y=\"3\" fill=\"#000000\" />\n",
       "<rect width=\".81\" height=\".81\" x=\"11\" y=\"3\" fill=\"#000000\" />\n",
       "<rect width=\".81\" height=\".81\" x=\"12\" y=\"3\" fill=\"#000000\" />\n",
       "<rect width=\".81\" height=\".81\" x=\"13\" y=\"3\" fill=\"#000000\" />\n",
       "<rect width=\".81\" height=\".81\" x=\"14\" y=\"3\" fill=\"#000000\" />\n",
       "<rect width=\".81\" height=\".81\" x=\"15\" y=\"3\" fill=\"#000000\" />\n",
       "<rect width=\".81\" height=\".81\" x=\"16\" y=\"3\" fill=\"#000000\" />\n",
       "<rect width=\".81\" height=\".81\" x=\"17\" y=\"3\" fill=\"#000000\" />\n",
       "<rect width=\".81\" height=\".81\" x=\"18\" y=\"3\" fill=\"#000000\" />\n",
       "<rect width=\".81\" height=\".81\" x=\"19\" y=\"3\" fill=\"#000000\" />\n",
       "<rect width=\".81\" height=\".81\" x=\"20\" y=\"3\" fill=\"#000000\" />\n",
       "<rect width=\".81\" height=\".81\" x=\"21\" y=\"3\" fill=\"#000000\" />\n",
       "<rect width=\".81\" height=\".81\" x=\"22\" y=\"3\" fill=\"#000000\" />\n",
       "<rect width=\".81\" height=\".81\" x=\"23\" y=\"3\" fill=\"#000000\" />\n",
       "<rect width=\".81\" height=\".81\" x=\"24\" y=\"3\" fill=\"#000000\" />\n",
       "<rect width=\".81\" height=\".81\" x=\"25\" y=\"3\" fill=\"#000000\" />\n",
       "<rect width=\".81\" height=\".81\" x=\"26\" y=\"3\" fill=\"#000000\" />\n",
       "<rect width=\".81\" height=\".81\" x=\"27\" y=\"3\" fill=\"#000000\" />\n",
       "<rect width=\".81\" height=\".81\" x=\"0\" y=\"4\" fill=\"#000000\" />\n",
       "<rect width=\".81\" height=\".81\" x=\"1\" y=\"4\" fill=\"#000000\" />\n",
       "<rect width=\".81\" height=\".81\" x=\"2\" y=\"4\" fill=\"#000000\" />\n",
       "<rect width=\".81\" height=\".81\" x=\"3\" y=\"4\" fill=\"#000000\" />\n",
       "<rect width=\".81\" height=\".81\" x=\"4\" y=\"4\" fill=\"#000000\" />\n",
       "<rect width=\".81\" height=\".81\" x=\"5\" y=\"4\" fill=\"#000000\" />\n",
       "<rect width=\".81\" height=\".81\" x=\"6\" y=\"4\" fill=\"#000000\" />\n",
       "<rect width=\".81\" height=\".81\" x=\"7\" y=\"4\" fill=\"#000000\" />\n",
       "<rect width=\".81\" height=\".81\" x=\"8\" y=\"4\" fill=\"#000000\" />\n",
       "<rect width=\".81\" height=\".81\" x=\"9\" y=\"4\" fill=\"#000000\" />\n",
       "<rect width=\".81\" height=\".81\" x=\"10\" y=\"4\" fill=\"#000000\" />\n",
       "<rect width=\".81\" height=\".81\" x=\"11\" y=\"4\" fill=\"#000000\" />\n",
       "<rect width=\".81\" height=\".81\" x=\"12\" y=\"4\" fill=\"#000000\" />\n",
       "<rect width=\".81\" height=\".81\" x=\"13\" y=\"4\" fill=\"#000000\" />\n",
       "<rect width=\".81\" height=\".81\" x=\"14\" y=\"4\" fill=\"#000000\" />\n",
       "<rect width=\".81\" height=\".81\" x=\"15\" y=\"4\" fill=\"#000000\" />\n",
       "<rect width=\".81\" height=\".81\" x=\"16\" y=\"4\" fill=\"#000000\" />\n",
       "<rect width=\".81\" height=\".81\" x=\"17\" y=\"4\" fill=\"#000000\" />\n",
       "<rect width=\".81\" height=\".81\" x=\"18\" y=\"4\" fill=\"#000000\" />\n",
       "<rect width=\".81\" height=\".81\" x=\"19\" y=\"4\" fill=\"#000000\" />\n",
       "<rect width=\".81\" height=\".81\" x=\"20\" y=\"4\" fill=\"#000000\" />\n",
       "<rect width=\".81\" height=\".81\" x=\"21\" y=\"4\" fill=\"#000000\" />\n",
       "<rect width=\".81\" height=\".81\" x=\"22\" y=\"4\" fill=\"#000000\" />\n",
       "<rect width=\".81\" height=\".81\" x=\"23\" y=\"4\" fill=\"#000000\" />\n",
       "<rect width=\".81\" height=\".81\" x=\"24\" y=\"4\" fill=\"#000000\" />\n",
       "<rect width=\".81\" height=\".81\" x=\"25\" y=\"4\" fill=\"#000000\" />\n",
       "<rect width=\".81\" height=\".81\" x=\"26\" y=\"4\" fill=\"#000000\" />\n",
       "<rect width=\".81\" height=\".81\" x=\"27\" y=\"4\" fill=\"#000000\" />\n",
       "<rect width=\".81\" height=\".81\" x=\"0\" y=\"5\" fill=\"#000000\" />\n",
       "<rect width=\".81\" height=\".81\" x=\"1\" y=\"5\" fill=\"#000000\" />\n",
       "<rect width=\".81\" height=\".81\" x=\"2\" y=\"5\" fill=\"#000000\" />\n",
       "<rect width=\".81\" height=\".81\" x=\"3\" y=\"5\" fill=\"#000000\" />\n",
       "<rect width=\".81\" height=\".81\" x=\"4\" y=\"5\" fill=\"#000000\" />\n",
       "<rect width=\".81\" height=\".81\" x=\"5\" y=\"5\" fill=\"#000000\" />\n",
       "<rect width=\".81\" height=\".81\" x=\"6\" y=\"5\" fill=\"#000000\" />\n",
       "<rect width=\".81\" height=\".81\" x=\"7\" y=\"5\" fill=\"#000000\" />\n",
       "<rect width=\".81\" height=\".81\" x=\"8\" y=\"5\" fill=\"#000000\" />\n",
       "<rect width=\".81\" height=\".81\" x=\"9\" y=\"5\" fill=\"#000000\" />\n",
       "<rect width=\".81\" height=\".81\" x=\"10\" y=\"5\" fill=\"#000000\" />\n",
       "<rect width=\".81\" height=\".81\" x=\"11\" y=\"5\" fill=\"#000000\" />\n",
       "<rect width=\".81\" height=\".81\" x=\"12\" y=\"5\" fill=\"#030303\" />\n",
       "<rect width=\".81\" height=\".81\" x=\"13\" y=\"5\" fill=\"#121212\" />\n",
       "<rect width=\".81\" height=\".81\" x=\"14\" y=\"5\" fill=\"#121212\" />\n",
       "<rect width=\".81\" height=\".81\" x=\"15\" y=\"5\" fill=\"#121212\" />\n",
       "<rect width=\".81\" height=\".81\" x=\"16\" y=\"5\" fill=\"#7E7E7E\" />\n",
       "<rect width=\".81\" height=\".81\" x=\"17\" y=\"5\" fill=\"#888888\" />\n",
       "<rect width=\".81\" height=\".81\" x=\"18\" y=\"5\" fill=\"#AFAFAF\" />\n",
       "<rect width=\".81\" height=\".81\" x=\"19\" y=\"5\" fill=\"#1A1A1A\" />\n",
       "<rect width=\".81\" height=\".81\" x=\"20\" y=\"5\" fill=\"#A6A6A6\" />\n",
       "<rect width=\".81\" height=\".81\" x=\"21\" y=\"5\" fill=\"#FFFFFF\" />\n",
       "<rect width=\".81\" height=\".81\" x=\"22\" y=\"5\" fill=\"#F7F7F7\" />\n",
       "<rect width=\".81\" height=\".81\" x=\"23\" y=\"5\" fill=\"#7F7F7F\" />\n",
       "<rect width=\".81\" height=\".81\" x=\"24\" y=\"5\" fill=\"#000000\" />\n",
       "<rect width=\".81\" height=\".81\" x=\"25\" y=\"5\" fill=\"#000000\" />\n",
       "<rect width=\".81\" height=\".81\" x=\"26\" y=\"5\" fill=\"#000000\" />\n",
       "<rect width=\".81\" height=\".81\" x=\"27\" y=\"5\" fill=\"#000000\" />\n",
       "<rect width=\".81\" height=\".81\" x=\"0\" y=\"6\" fill=\"#000000\" />\n",
       "<rect width=\".81\" height=\".81\" x=\"1\" y=\"6\" fill=\"#000000\" />\n",
       "<rect width=\".81\" height=\".81\" x=\"2\" y=\"6\" fill=\"#000000\" />\n",
       "<rect width=\".81\" height=\".81\" x=\"3\" y=\"6\" fill=\"#000000\" />\n",
       "<rect width=\".81\" height=\".81\" x=\"4\" y=\"6\" fill=\"#000000\" />\n",
       "<rect width=\".81\" height=\".81\" x=\"5\" y=\"6\" fill=\"#000000\" />\n",
       "<rect width=\".81\" height=\".81\" x=\"6\" y=\"6\" fill=\"#000000\" />\n",
       "<rect width=\".81\" height=\".81\" x=\"7\" y=\"6\" fill=\"#000000\" />\n",
       "<rect width=\".81\" height=\".81\" x=\"8\" y=\"6\" fill=\"#1E1E1E\" />\n",
       "<rect width=\".81\" height=\".81\" x=\"9\" y=\"6\" fill=\"#242424\" />\n",
       "<rect width=\".81\" height=\".81\" x=\"10\" y=\"6\" fill=\"#5E5E5E\" />\n",
       "<rect width=\".81\" height=\".81\" x=\"11\" y=\"6\" fill=\"#9A9A9A\" />\n",
       "<rect width=\".81\" height=\".81\" x=\"12\" y=\"6\" fill=\"#AAAAAA\" />\n",
       "<rect width=\".81\" height=\".81\" x=\"13\" y=\"6\" fill=\"#FDFDFD\" />\n",
       "<rect width=\".81\" height=\".81\" x=\"14\" y=\"6\" fill=\"#FDFDFD\" />\n",
       "<rect width=\".81\" height=\".81\" x=\"15\" y=\"6\" fill=\"#FDFDFD\" />\n",
       "<rect width=\".81\" height=\".81\" x=\"16\" y=\"6\" fill=\"#FDFDFD\" />\n",
       "<rect width=\".81\" height=\".81\" x=\"17\" y=\"6\" fill=\"#FDFDFD\" />\n",
       "<rect width=\".81\" height=\".81\" x=\"18\" y=\"6\" fill=\"#E1E1E1\" />\n",
       "<rect width=\".81\" height=\".81\" x=\"19\" y=\"6\" fill=\"#ACACAC\" />\n",
       "<rect width=\".81\" height=\".81\" x=\"20\" y=\"6\" fill=\"#FDFDFD\" />\n",
       "<rect width=\".81\" height=\".81\" x=\"21\" y=\"6\" fill=\"#F2F2F2\" />\n",
       "<rect width=\".81\" height=\".81\" x=\"22\" y=\"6\" fill=\"#C3C3C3\" />\n",
       "<rect width=\".81\" height=\".81\" x=\"23\" y=\"6\" fill=\"#404040\" />\n",
       "<rect width=\".81\" height=\".81\" x=\"24\" y=\"6\" fill=\"#000000\" />\n",
       "<rect width=\".81\" height=\".81\" x=\"25\" y=\"6\" fill=\"#000000\" />\n",
       "<rect width=\".81\" height=\".81\" x=\"26\" y=\"6\" fill=\"#000000\" />\n",
       "<rect width=\".81\" height=\".81\" x=\"27\" y=\"6\" fill=\"#000000\" />\n",
       "<rect width=\".81\" height=\".81\" x=\"0\" y=\"7\" fill=\"#000000\" />\n",
       "<rect width=\".81\" height=\".81\" x=\"1\" y=\"7\" fill=\"#000000\" />\n",
       "<rect width=\".81\" height=\".81\" x=\"2\" y=\"7\" fill=\"#000000\" />\n",
       "<rect width=\".81\" height=\".81\" x=\"3\" y=\"7\" fill=\"#000000\" />\n",
       "<rect width=\".81\" height=\".81\" x=\"4\" y=\"7\" fill=\"#000000\" />\n",
       "<rect width=\".81\" height=\".81\" x=\"5\" y=\"7\" fill=\"#000000\" />\n",
       "<rect width=\".81\" height=\".81\" x=\"6\" y=\"7\" fill=\"#000000\" />\n",
       "<rect width=\".81\" height=\".81\" x=\"7\" y=\"7\" fill=\"#313131\" />\n",
       "<rect width=\".81\" height=\".81\" x=\"8\" y=\"7\" fill=\"#EEEEEE\" />\n",
       "<rect width=\".81\" height=\".81\" x=\"9\" y=\"7\" fill=\"#FDFDFD\" />\n",
       "<rect width=\".81\" height=\".81\" x=\"10\" y=\"7\" fill=\"#FDFDFD\" />\n",
       "<rect width=\".81\" height=\".81\" x=\"11\" y=\"7\" fill=\"#FDFDFD\" />\n",
       "<rect width=\".81\" height=\".81\" x=\"12\" y=\"7\" fill=\"#FDFDFD\" />\n",
       "<rect width=\".81\" height=\".81\" x=\"13\" y=\"7\" fill=\"#FDFDFD\" />\n",
       "<rect width=\".81\" height=\".81\" x=\"14\" y=\"7\" fill=\"#FDFDFD\" />\n",
       "<rect width=\".81\" height=\".81\" x=\"15\" y=\"7\" fill=\"#FDFDFD\" />\n",
       "<rect width=\".81\" height=\".81\" x=\"16\" y=\"7\" fill=\"#FDFDFD\" />\n",
       "<rect width=\".81\" height=\".81\" x=\"17\" y=\"7\" fill=\"#FBFBFB\" />\n",
       "<rect width=\".81\" height=\".81\" x=\"18\" y=\"7\" fill=\"#5D5D5D\" />\n",
       "<rect width=\".81\" height=\".81\" x=\"19\" y=\"7\" fill=\"#525252\" />\n",
       "<rect width=\".81\" height=\".81\" x=\"20\" y=\"7\" fill=\"#525252\" />\n",
       "<rect width=\".81\" height=\".81\" x=\"21\" y=\"7\" fill=\"#383838\" />\n",
       "<rect width=\".81\" height=\".81\" x=\"22\" y=\"7\" fill=\"#272727\" />\n",
       "<rect width=\".81\" height=\".81\" x=\"23\" y=\"7\" fill=\"#000000\" />\n",
       "<rect width=\".81\" height=\".81\" x=\"24\" y=\"7\" fill=\"#000000\" />\n",
       "<rect width=\".81\" height=\".81\" x=\"25\" y=\"7\" fill=\"#000000\" />\n",
       "<rect width=\".81\" height=\".81\" x=\"26\" y=\"7\" fill=\"#000000\" />\n",
       "<rect width=\".81\" height=\".81\" x=\"27\" y=\"7\" fill=\"#000000\" />\n",
       "<rect width=\".81\" height=\".81\" x=\"0\" y=\"8\" fill=\"#000000\" />\n",
       "<rect width=\".81\" height=\".81\" x=\"1\" y=\"8\" fill=\"#000000\" />\n",
       "<rect width=\".81\" height=\".81\" x=\"2\" y=\"8\" fill=\"#000000\" />\n",
       "<rect width=\".81\" height=\".81\" x=\"3\" y=\"8\" fill=\"#000000\" />\n",
       "<rect width=\".81\" height=\".81\" x=\"4\" y=\"8\" fill=\"#000000\" />\n",
       "<rect width=\".81\" height=\".81\" x=\"5\" y=\"8\" fill=\"#000000\" />\n",
       "<rect width=\".81\" height=\".81\" x=\"6\" y=\"8\" fill=\"#000000\" />\n",
       "<rect width=\".81\" height=\".81\" x=\"7\" y=\"8\" fill=\"#121212\" />\n",
       "<rect width=\".81\" height=\".81\" x=\"8\" y=\"8\" fill=\"#DBDBDB\" />\n",
       "<rect width=\".81\" height=\".81\" x=\"9\" y=\"8\" fill=\"#FDFDFD\" />\n",
       "<rect width=\".81\" height=\".81\" x=\"10\" y=\"8\" fill=\"#FDFDFD\" />\n",
       "<rect width=\".81\" height=\".81\" x=\"11\" y=\"8\" fill=\"#FDFDFD\" />\n",
       "<rect width=\".81\" height=\".81\" x=\"12\" y=\"8\" fill=\"#FDFDFD\" />\n",
       "<rect width=\".81\" height=\".81\" x=\"13\" y=\"8\" fill=\"#FDFDFD\" />\n",
       "<rect width=\".81\" height=\".81\" x=\"14\" y=\"8\" fill=\"#C6C6C6\" />\n",
       "<rect width=\".81\" height=\".81\" x=\"15\" y=\"8\" fill=\"#B6B6B6\" />\n",
       "<rect width=\".81\" height=\".81\" x=\"16\" y=\"8\" fill=\"#F7F7F7\" />\n",
       "<rect width=\".81\" height=\".81\" x=\"17\" y=\"8\" fill=\"#F1F1F1\" />\n",
       "<rect width=\".81\" height=\".81\" x=\"18\" y=\"8\" fill=\"#000000\" />\n",
       "<rect width=\".81\" height=\".81\" x=\"19\" y=\"8\" fill=\"#000000\" />\n",
       "<rect width=\".81\" height=\".81\" x=\"20\" y=\"8\" fill=\"#000000\" />\n",
       "<rect width=\".81\" height=\".81\" x=\"21\" y=\"8\" fill=\"#000000\" />\n",
       "<rect width=\".81\" height=\".81\" x=\"22\" y=\"8\" fill=\"#000000\" />\n",
       "<rect width=\".81\" height=\".81\" x=\"23\" y=\"8\" fill=\"#000000\" />\n",
       "<rect width=\".81\" height=\".81\" x=\"24\" y=\"8\" fill=\"#000000\" />\n",
       "<rect width=\".81\" height=\".81\" x=\"25\" y=\"8\" fill=\"#000000\" />\n",
       "<rect width=\".81\" height=\".81\" x=\"26\" y=\"8\" fill=\"#000000\" />\n",
       "<rect width=\".81\" height=\".81\" x=\"27\" y=\"8\" fill=\"#000000\" />\n",
       "<rect width=\".81\" height=\".81\" x=\"0\" y=\"9\" fill=\"#000000\" />\n",
       "<rect width=\".81\" height=\".81\" x=\"1\" y=\"9\" fill=\"#000000\" />\n",
       "<rect width=\".81\" height=\".81\" x=\"2\" y=\"9\" fill=\"#000000\" />\n",
       "<rect width=\".81\" height=\".81\" x=\"3\" y=\"9\" fill=\"#000000\" />\n",
       "<rect width=\".81\" height=\".81\" x=\"4\" y=\"9\" fill=\"#000000\" />\n",
       "<rect width=\".81\" height=\".81\" x=\"5\" y=\"9\" fill=\"#000000\" />\n",
       "<rect width=\".81\" height=\".81\" x=\"6\" y=\"9\" fill=\"#000000\" />\n",
       "<rect width=\".81\" height=\".81\" x=\"7\" y=\"9\" fill=\"#000000\" />\n",
       "<rect width=\".81\" height=\".81\" x=\"8\" y=\"9\" fill=\"#505050\" />\n",
       "<rect width=\".81\" height=\".81\" x=\"9\" y=\"9\" fill=\"#9C9C9C\" />\n",
       "<rect width=\".81\" height=\".81\" x=\"10\" y=\"9\" fill=\"#6B6B6B\" />\n",
       "<rect width=\".81\" height=\".81\" x=\"11\" y=\"9\" fill=\"#FDFDFD\" />\n",
       "<rect width=\".81\" height=\".81\" x=\"12\" y=\"9\" fill=\"#FDFDFD\" />\n",
       "<rect width=\".81\" height=\".81\" x=\"13\" y=\"9\" fill=\"#CDCDCD\" />\n",
       "<rect width=\".81\" height=\".81\" x=\"14\" y=\"9\" fill=\"#0B0B0B\" />\n",
       "<rect width=\".81\" height=\".81\" x=\"15\" y=\"9\" fill=\"#000000\" />\n",
       "<rect width=\".81\" height=\".81\" x=\"16\" y=\"9\" fill=\"#2B2B2B\" />\n",
       "<rect width=\".81\" height=\".81\" x=\"17\" y=\"9\" fill=\"#9A9A9A\" />\n",
       "<rect width=\".81\" height=\".81\" x=\"18\" y=\"9\" fill=\"#000000\" />\n",
       "<rect width=\".81\" height=\".81\" x=\"19\" y=\"9\" fill=\"#000000\" />\n",
       "<rect width=\".81\" height=\".81\" x=\"20\" y=\"9\" fill=\"#000000\" />\n",
       "<rect width=\".81\" height=\".81\" x=\"21\" y=\"9\" fill=\"#000000\" />\n",
       "<rect width=\".81\" height=\".81\" x=\"22\" y=\"9\" fill=\"#000000\" />\n",
       "<rect width=\".81\" height=\".81\" x=\"23\" y=\"9\" fill=\"#000000\" />\n",
       "<rect width=\".81\" height=\".81\" x=\"24\" y=\"9\" fill=\"#000000\" />\n",
       "<rect width=\".81\" height=\".81\" x=\"25\" y=\"9\" fill=\"#000000\" />\n",
       "<rect width=\".81\" height=\".81\" x=\"26\" y=\"9\" fill=\"#000000\" />\n",
       "<rect width=\".81\" height=\".81\" x=\"27\" y=\"9\" fill=\"#000000\" />\n",
       "<rect width=\".81\" height=\".81\" x=\"0\" y=\"10\" fill=\"#000000\" />\n",
       "<rect width=\".81\" height=\".81\" x=\"1\" y=\"10\" fill=\"#000000\" />\n",
       "<rect width=\".81\" height=\".81\" x=\"2\" y=\"10\" fill=\"#000000\" />\n",
       "<rect width=\".81\" height=\".81\" x=\"3\" y=\"10\" fill=\"#000000\" />\n",
       "<rect width=\".81\" height=\".81\" x=\"4\" y=\"10\" fill=\"#000000\" />\n",
       "<rect width=\".81\" height=\".81\" x=\"5\" y=\"10\" fill=\"#000000\" />\n",
       "<rect width=\".81\" height=\".81\" x=\"6\" y=\"10\" fill=\"#000000\" />\n",
       "<rect width=\".81\" height=\".81\" x=\"7\" y=\"10\" fill=\"#000000\" />\n",
       "<rect width=\".81\" height=\".81\" x=\"8\" y=\"10\" fill=\"#000000\" />\n",
       "<rect width=\".81\" height=\".81\" x=\"9\" y=\"10\" fill=\"#0E0E0E\" />\n",
       "<rect width=\".81\" height=\".81\" x=\"10\" y=\"10\" fill=\"#010101\" />\n",
       "<rect width=\".81\" height=\".81\" x=\"11\" y=\"10\" fill=\"#9A9A9A\" />\n",
       "<rect width=\".81\" height=\".81\" x=\"12\" y=\"10\" fill=\"#FDFDFD\" />\n",
       "<rect width=\".81\" height=\".81\" x=\"13\" y=\"10\" fill=\"#5A5A5A\" />\n",
       "<rect width=\".81\" height=\".81\" x=\"14\" y=\"10\" fill=\"#000000\" />\n",
       "<rect width=\".81\" height=\".81\" x=\"15\" y=\"10\" fill=\"#000000\" />\n",
       "<rect width=\".81\" height=\".81\" x=\"16\" y=\"10\" fill=\"#000000\" />\n",
       "<rect width=\".81\" height=\".81\" x=\"17\" y=\"10\" fill=\"#000000\" />\n",
       "<rect width=\".81\" height=\".81\" x=\"18\" y=\"10\" fill=\"#000000\" />\n",
       "<rect width=\".81\" height=\".81\" x=\"19\" y=\"10\" fill=\"#000000\" />\n",
       "<rect width=\".81\" height=\".81\" x=\"20\" y=\"10\" fill=\"#000000\" />\n",
       "<rect width=\".81\" height=\".81\" x=\"21\" y=\"10\" fill=\"#000000\" />\n",
       "<rect width=\".81\" height=\".81\" x=\"22\" y=\"10\" fill=\"#000000\" />\n",
       "<rect width=\".81\" height=\".81\" x=\"23\" y=\"10\" fill=\"#000000\" />\n",
       "<rect width=\".81\" height=\".81\" x=\"24\" y=\"10\" fill=\"#000000\" />\n",
       "<rect width=\".81\" height=\".81\" x=\"25\" y=\"10\" fill=\"#000000\" />\n",
       "<rect width=\".81\" height=\".81\" x=\"26\" y=\"10\" fill=\"#000000\" />\n",
       "<rect width=\".81\" height=\".81\" x=\"27\" y=\"10\" fill=\"#000000\" />\n",
       "<rect width=\".81\" height=\".81\" x=\"0\" y=\"11\" fill=\"#000000\" />\n",
       "<rect width=\".81\" height=\".81\" x=\"1\" y=\"11\" fill=\"#000000\" />\n",
       "<rect width=\".81\" height=\".81\" x=\"2\" y=\"11\" fill=\"#000000\" />\n",
       "<rect width=\".81\" height=\".81\" x=\"3\" y=\"11\" fill=\"#000000\" />\n",
       "<rect width=\".81\" height=\".81\" x=\"4\" y=\"11\" fill=\"#000000\" />\n",
       "<rect width=\".81\" height=\".81\" x=\"5\" y=\"11\" fill=\"#000000\" />\n",
       "<rect width=\".81\" height=\".81\" x=\"6\" y=\"11\" fill=\"#000000\" />\n",
       "<rect width=\".81\" height=\".81\" x=\"7\" y=\"11\" fill=\"#000000\" />\n",
       "<rect width=\".81\" height=\".81\" x=\"8\" y=\"11\" fill=\"#000000\" />\n",
       "<rect width=\".81\" height=\".81\" x=\"9\" y=\"11\" fill=\"#000000\" />\n",
       "<rect width=\".81\" height=\".81\" x=\"10\" y=\"11\" fill=\"#000000\" />\n",
       "<rect width=\".81\" height=\".81\" x=\"11\" y=\"11\" fill=\"#8B8B8B\" />\n",
       "<rect width=\".81\" height=\".81\" x=\"12\" y=\"11\" fill=\"#FDFDFD\" />\n",
       "<rect width=\".81\" height=\".81\" x=\"13\" y=\"11\" fill=\"#BEBEBE\" />\n",
       "<rect width=\".81\" height=\".81\" x=\"14\" y=\"11\" fill=\"#020202\" />\n",
       "<rect width=\".81\" height=\".81\" x=\"15\" y=\"11\" fill=\"#000000\" />\n",
       "<rect width=\".81\" height=\".81\" x=\"16\" y=\"11\" fill=\"#000000\" />\n",
       "<rect width=\".81\" height=\".81\" x=\"17\" y=\"11\" fill=\"#000000\" />\n",
       "<rect width=\".81\" height=\".81\" x=\"18\" y=\"11\" fill=\"#000000\" />\n",
       "<rect width=\".81\" height=\".81\" x=\"19\" y=\"11\" fill=\"#000000\" />\n",
       "<rect width=\".81\" height=\".81\" x=\"20\" y=\"11\" fill=\"#000000\" />\n",
       "<rect width=\".81\" height=\".81\" x=\"21\" y=\"11\" fill=\"#000000\" />\n",
       "<rect width=\".81\" height=\".81\" x=\"22\" y=\"11\" fill=\"#000000\" />\n",
       "<rect width=\".81\" height=\".81\" x=\"23\" y=\"11\" fill=\"#000000\" />\n",
       "<rect width=\".81\" height=\".81\" x=\"24\" y=\"11\" fill=\"#000000\" />\n",
       "<rect width=\".81\" height=\".81\" x=\"25\" y=\"11\" fill=\"#000000\" />\n",
       "<rect width=\".81\" height=\".81\" x=\"26\" y=\"11\" fill=\"#000000\" />\n",
       "<rect width=\".81\" height=\".81\" x=\"27\" y=\"11\" fill=\"#000000\" />\n",
       "<rect width=\".81\" height=\".81\" x=\"0\" y=\"12\" fill=\"#000000\" />\n",
       "<rect width=\".81\" height=\".81\" x=\"1\" y=\"12\" fill=\"#000000\" />\n",
       "<rect width=\".81\" height=\".81\" x=\"2\" y=\"12\" fill=\"#000000\" />\n",
       "<rect width=\".81\" height=\".81\" x=\"3\" y=\"12\" fill=\"#000000\" />\n",
       "<rect width=\".81\" height=\".81\" x=\"4\" y=\"12\" fill=\"#000000\" />\n",
       "<rect width=\".81\" height=\".81\" x=\"5\" y=\"12\" fill=\"#000000\" />\n",
       "<rect width=\".81\" height=\".81\" x=\"6\" y=\"12\" fill=\"#000000\" />\n",
       "<rect width=\".81\" height=\".81\" x=\"7\" y=\"12\" fill=\"#000000\" />\n",
       "<rect width=\".81\" height=\".81\" x=\"8\" y=\"12\" fill=\"#000000\" />\n",
       "<rect width=\".81\" height=\".81\" x=\"9\" y=\"12\" fill=\"#000000\" />\n",
       "<rect width=\".81\" height=\".81\" x=\"10\" y=\"12\" fill=\"#000000\" />\n",
       "<rect width=\".81\" height=\".81\" x=\"11\" y=\"12\" fill=\"#0B0B0B\" />\n",
       "<rect width=\".81\" height=\".81\" x=\"12\" y=\"12\" fill=\"#BEBEBE\" />\n",
       "<rect width=\".81\" height=\".81\" x=\"13\" y=\"12\" fill=\"#FDFDFD\" />\n",
       "<rect width=\".81\" height=\".81\" x=\"14\" y=\"12\" fill=\"#464646\" />\n",
       "<rect width=\".81\" height=\".81\" x=\"15\" y=\"12\" fill=\"#000000\" />\n",
       "<rect width=\".81\" height=\".81\" x=\"16\" y=\"12\" fill=\"#000000\" />\n",
       "<rect width=\".81\" height=\".81\" x=\"17\" y=\"12\" fill=\"#000000\" />\n",
       "<rect width=\".81\" height=\".81\" x=\"18\" y=\"12\" fill=\"#000000\" />\n",
       "<rect width=\".81\" height=\".81\" x=\"19\" y=\"12\" fill=\"#000000\" />\n",
       "<rect width=\".81\" height=\".81\" x=\"20\" y=\"12\" fill=\"#000000\" />\n",
       "<rect width=\".81\" height=\".81\" x=\"21\" y=\"12\" fill=\"#000000\" />\n",
       "<rect width=\".81\" height=\".81\" x=\"22\" y=\"12\" fill=\"#000000\" />\n",
       "<rect width=\".81\" height=\".81\" x=\"23\" y=\"12\" fill=\"#000000\" />\n",
       "<rect width=\".81\" height=\".81\" x=\"24\" y=\"12\" fill=\"#000000\" />\n",
       "<rect width=\".81\" height=\".81\" x=\"25\" y=\"12\" fill=\"#000000\" />\n",
       "<rect width=\".81\" height=\".81\" x=\"26\" y=\"12\" fill=\"#000000\" />\n",
       "<rect width=\".81\" height=\".81\" x=\"27\" y=\"12\" fill=\"#000000\" />\n",
       "<rect width=\".81\" height=\".81\" x=\"0\" y=\"13\" fill=\"#000000\" />\n",
       "<rect width=\".81\" height=\".81\" x=\"1\" y=\"13\" fill=\"#000000\" />\n",
       "<rect width=\".81\" height=\".81\" x=\"2\" y=\"13\" fill=\"#000000\" />\n",
       "<rect width=\".81\" height=\".81\" x=\"3\" y=\"13\" fill=\"#000000\" />\n",
       "<rect width=\".81\" height=\".81\" x=\"4\" y=\"13\" fill=\"#000000\" />\n",
       "<rect width=\".81\" height=\".81\" x=\"5\" y=\"13\" fill=\"#000000\" />\n",
       "<rect width=\".81\" height=\".81\" x=\"6\" y=\"13\" fill=\"#000000\" />\n",
       "<rect width=\".81\" height=\".81\" x=\"7\" y=\"13\" fill=\"#000000\" />\n",
       "<rect width=\".81\" height=\".81\" x=\"8\" y=\"13\" fill=\"#000000\" />\n",
       "<rect width=\".81\" height=\".81\" x=\"9\" y=\"13\" fill=\"#000000\" />\n",
       "<rect width=\".81\" height=\".81\" x=\"10\" y=\"13\" fill=\"#000000\" />\n",
       "<rect width=\".81\" height=\".81\" x=\"11\" y=\"13\" fill=\"#000000\" />\n",
       "<rect width=\".81\" height=\".81\" x=\"12\" y=\"13\" fill=\"#232323\" />\n",
       "<rect width=\".81\" height=\".81\" x=\"13\" y=\"13\" fill=\"#F1F1F1\" />\n",
       "<rect width=\".81\" height=\".81\" x=\"14\" y=\"13\" fill=\"#E1E1E1\" />\n",
       "<rect width=\".81\" height=\".81\" x=\"15\" y=\"13\" fill=\"#A0A0A0\" />\n",
       "<rect width=\".81\" height=\".81\" x=\"16\" y=\"13\" fill=\"#6C6C6C\" />\n",
       "<rect width=\".81\" height=\".81\" x=\"17\" y=\"13\" fill=\"#010101\" />\n",
       "<rect width=\".81\" height=\".81\" x=\"18\" y=\"13\" fill=\"#000000\" />\n",
       "<rect width=\".81\" height=\".81\" x=\"19\" y=\"13\" fill=\"#000000\" />\n",
       "<rect width=\".81\" height=\".81\" x=\"20\" y=\"13\" fill=\"#000000\" />\n",
       "<rect width=\".81\" height=\".81\" x=\"21\" y=\"13\" fill=\"#000000\" />\n",
       "<rect width=\".81\" height=\".81\" x=\"22\" y=\"13\" fill=\"#000000\" />\n",
       "<rect width=\".81\" height=\".81\" x=\"23\" y=\"13\" fill=\"#000000\" />\n",
       "<rect width=\".81\" height=\".81\" x=\"24\" y=\"13\" fill=\"#000000\" />\n",
       "<rect width=\".81\" height=\".81\" x=\"25\" y=\"13\" fill=\"#000000\" />\n",
       "<rect width=\".81\" height=\".81\" x=\"26\" y=\"13\" fill=\"#000000\" />\n",
       "<rect width=\".81\" height=\".81\" x=\"27\" y=\"13\" fill=\"#000000\" />\n",
       "<rect width=\".81\" height=\".81\" x=\"0\" y=\"14\" fill=\"#000000\" />\n",
       "<rect width=\".81\" height=\".81\" x=\"1\" y=\"14\" fill=\"#000000\" />\n",
       "<rect width=\".81\" height=\".81\" x=\"2\" y=\"14\" fill=\"#000000\" />\n",
       "<rect width=\".81\" height=\".81\" x=\"3\" y=\"14\" fill=\"#000000\" />\n",
       "<rect width=\".81\" height=\".81\" x=\"4\" y=\"14\" fill=\"#000000\" />\n",
       "<rect width=\".81\" height=\".81\" x=\"5\" y=\"14\" fill=\"#000000\" />\n",
       "<rect width=\".81\" height=\".81\" x=\"6\" y=\"14\" fill=\"#000000\" />\n",
       "<rect width=\".81\" height=\".81\" x=\"7\" y=\"14\" fill=\"#000000\" />\n",
       "<rect width=\".81\" height=\".81\" x=\"8\" y=\"14\" fill=\"#000000\" />\n",
       "<rect width=\".81\" height=\".81\" x=\"9\" y=\"14\" fill=\"#000000\" />\n",
       "<rect width=\".81\" height=\".81\" x=\"10\" y=\"14\" fill=\"#000000\" />\n",
       "<rect width=\".81\" height=\".81\" x=\"11\" y=\"14\" fill=\"#000000\" />\n",
       "<rect width=\".81\" height=\".81\" x=\"12\" y=\"14\" fill=\"#000000\" />\n",
       "<rect width=\".81\" height=\".81\" x=\"13\" y=\"14\" fill=\"#515151\" />\n",
       "<rect width=\".81\" height=\".81\" x=\"14\" y=\"14\" fill=\"#F0F0F0\" />\n",
       "<rect width=\".81\" height=\".81\" x=\"15\" y=\"14\" fill=\"#FDFDFD\" />\n",
       "<rect width=\".81\" height=\".81\" x=\"16\" y=\"14\" fill=\"#FDFDFD\" />\n",
       "<rect width=\".81\" height=\".81\" x=\"17\" y=\"14\" fill=\"#777777\" />\n",
       "<rect width=\".81\" height=\".81\" x=\"18\" y=\"14\" fill=\"#191919\" />\n",
       "<rect width=\".81\" height=\".81\" x=\"19\" y=\"14\" fill=\"#000000\" />\n",
       "<rect width=\".81\" height=\".81\" x=\"20\" y=\"14\" fill=\"#000000\" />\n",
       "<rect width=\".81\" height=\".81\" x=\"21\" y=\"14\" fill=\"#000000\" />\n",
       "<rect width=\".81\" height=\".81\" x=\"22\" y=\"14\" fill=\"#000000\" />\n",
       "<rect width=\".81\" height=\".81\" x=\"23\" y=\"14\" fill=\"#000000\" />\n",
       "<rect width=\".81\" height=\".81\" x=\"24\" y=\"14\" fill=\"#000000\" />\n",
       "<rect width=\".81\" height=\".81\" x=\"25\" y=\"14\" fill=\"#000000\" />\n",
       "<rect width=\".81\" height=\".81\" x=\"26\" y=\"14\" fill=\"#000000\" />\n",
       "<rect width=\".81\" height=\".81\" x=\"27\" y=\"14\" fill=\"#000000\" />\n",
       "<rect width=\".81\" height=\".81\" x=\"0\" y=\"15\" fill=\"#000000\" />\n",
       "<rect width=\".81\" height=\".81\" x=\"1\" y=\"15\" fill=\"#000000\" />\n",
       "<rect width=\".81\" height=\".81\" x=\"2\" y=\"15\" fill=\"#000000\" />\n",
       "<rect width=\".81\" height=\".81\" x=\"3\" y=\"15\" fill=\"#000000\" />\n",
       "<rect width=\".81\" height=\".81\" x=\"4\" y=\"15\" fill=\"#000000\" />\n",
       "<rect width=\".81\" height=\".81\" x=\"5\" y=\"15\" fill=\"#000000\" />\n",
       "<rect width=\".81\" height=\".81\" x=\"6\" y=\"15\" fill=\"#000000\" />\n",
       "<rect width=\".81\" height=\".81\" x=\"7\" y=\"15\" fill=\"#000000\" />\n",
       "<rect width=\".81\" height=\".81\" x=\"8\" y=\"15\" fill=\"#000000\" />\n",
       "<rect width=\".81\" height=\".81\" x=\"9\" y=\"15\" fill=\"#000000\" />\n",
       "<rect width=\".81\" height=\".81\" x=\"10\" y=\"15\" fill=\"#000000\" />\n",
       "<rect width=\".81\" height=\".81\" x=\"11\" y=\"15\" fill=\"#000000\" />\n",
       "<rect width=\".81\" height=\".81\" x=\"12\" y=\"15\" fill=\"#000000\" />\n",
       "<rect width=\".81\" height=\".81\" x=\"13\" y=\"15\" fill=\"#000000\" />\n",
       "<rect width=\".81\" height=\".81\" x=\"14\" y=\"15\" fill=\"#2D2D2D\" />\n",
       "<rect width=\".81\" height=\".81\" x=\"15\" y=\"15\" fill=\"#BABABA\" />\n",
       "<rect width=\".81\" height=\".81\" x=\"16\" y=\"15\" fill=\"#FDFDFD\" />\n",
       "<rect width=\".81\" height=\".81\" x=\"17\" y=\"15\" fill=\"#FDFDFD\" />\n",
       "<rect width=\".81\" height=\".81\" x=\"18\" y=\"15\" fill=\"#969696\" />\n",
       "<rect width=\".81\" height=\".81\" x=\"19\" y=\"15\" fill=\"#1B1B1B\" />\n",
       "<rect width=\".81\" height=\".81\" x=\"20\" y=\"15\" fill=\"#000000\" />\n",
       "<rect width=\".81\" height=\".81\" x=\"21\" y=\"15\" fill=\"#000000\" />\n",
       "<rect width=\".81\" height=\".81\" x=\"22\" y=\"15\" fill=\"#000000\" />\n",
       "<rect width=\".81\" height=\".81\" x=\"23\" y=\"15\" fill=\"#000000\" />\n",
       "<rect width=\".81\" height=\".81\" x=\"24\" y=\"15\" fill=\"#000000\" />\n",
       "<rect width=\".81\" height=\".81\" x=\"25\" y=\"15\" fill=\"#000000\" />\n",
       "<rect width=\".81\" height=\".81\" x=\"26\" y=\"15\" fill=\"#000000\" />\n",
       "<rect width=\".81\" height=\".81\" x=\"27\" y=\"15\" fill=\"#000000\" />\n",
       "<rect width=\".81\" height=\".81\" x=\"0\" y=\"16\" fill=\"#000000\" />\n",
       "<rect width=\".81\" height=\".81\" x=\"1\" y=\"16\" fill=\"#000000\" />\n",
       "<rect width=\".81\" height=\".81\" x=\"2\" y=\"16\" fill=\"#000000\" />\n",
       "<rect width=\".81\" height=\".81\" x=\"3\" y=\"16\" fill=\"#000000\" />\n",
       "<rect width=\".81\" height=\".81\" x=\"4\" y=\"16\" fill=\"#000000\" />\n",
       "<rect width=\".81\" height=\".81\" x=\"5\" y=\"16\" fill=\"#000000\" />\n",
       "<rect width=\".81\" height=\".81\" x=\"6\" y=\"16\" fill=\"#000000\" />\n",
       "<rect width=\".81\" height=\".81\" x=\"7\" y=\"16\" fill=\"#000000\" />\n",
       "<rect width=\".81\" height=\".81\" x=\"8\" y=\"16\" fill=\"#000000\" />\n",
       "<rect width=\".81\" height=\".81\" x=\"9\" y=\"16\" fill=\"#000000\" />\n",
       "<rect width=\".81\" height=\".81\" x=\"10\" y=\"16\" fill=\"#000000\" />\n",
       "<rect width=\".81\" height=\".81\" x=\"11\" y=\"16\" fill=\"#000000\" />\n",
       "<rect width=\".81\" height=\".81\" x=\"12\" y=\"16\" fill=\"#000000\" />\n",
       "<rect width=\".81\" height=\".81\" x=\"13\" y=\"16\" fill=\"#000000\" />\n",
       "<rect width=\".81\" height=\".81\" x=\"14\" y=\"16\" fill=\"#000000\" />\n",
       "<rect width=\".81\" height=\".81\" x=\"15\" y=\"16\" fill=\"#101010\" />\n",
       "<rect width=\".81\" height=\".81\" x=\"16\" y=\"16\" fill=\"#5D5D5D\" />\n",
       "<rect width=\".81\" height=\".81\" x=\"17\" y=\"16\" fill=\"#FCFCFC\" />\n",
       "<rect width=\".81\" height=\".81\" x=\"18\" y=\"16\" fill=\"#FDFDFD\" />\n",
       "<rect width=\".81\" height=\".81\" x=\"19\" y=\"16\" fill=\"#BBBBBB\" />\n",
       "<rect width=\".81\" height=\".81\" x=\"20\" y=\"16\" fill=\"#000000\" />\n",
       "<rect width=\".81\" height=\".81\" x=\"21\" y=\"16\" fill=\"#000000\" />\n",
       "<rect width=\".81\" height=\".81\" x=\"22\" y=\"16\" fill=\"#000000\" />\n",
       "<rect width=\".81\" height=\".81\" x=\"23\" y=\"16\" fill=\"#000000\" />\n",
       "<rect width=\".81\" height=\".81\" x=\"24\" y=\"16\" fill=\"#000000\" />\n",
       "<rect width=\".81\" height=\".81\" x=\"25\" y=\"16\" fill=\"#000000\" />\n",
       "<rect width=\".81\" height=\".81\" x=\"26\" y=\"16\" fill=\"#000000\" />\n",
       "<rect width=\".81\" height=\".81\" x=\"27\" y=\"16\" fill=\"#000000\" />\n",
       "<rect width=\".81\" height=\".81\" x=\"0\" y=\"17\" fill=\"#000000\" />\n",
       "<rect width=\".81\" height=\".81\" x=\"1\" y=\"17\" fill=\"#000000\" />\n",
       "<rect width=\".81\" height=\".81\" x=\"2\" y=\"17\" fill=\"#000000\" />\n",
       "<rect width=\".81\" height=\".81\" x=\"3\" y=\"17\" fill=\"#000000\" />\n",
       "<rect width=\".81\" height=\".81\" x=\"4\" y=\"17\" fill=\"#000000\" />\n",
       "<rect width=\".81\" height=\".81\" x=\"5\" y=\"17\" fill=\"#000000\" />\n",
       "<rect width=\".81\" height=\".81\" x=\"6\" y=\"17\" fill=\"#000000\" />\n",
       "<rect width=\".81\" height=\".81\" x=\"7\" y=\"17\" fill=\"#000000\" />\n",
       "<rect width=\".81\" height=\".81\" x=\"8\" y=\"17\" fill=\"#000000\" />\n",
       "<rect width=\".81\" height=\".81\" x=\"9\" y=\"17\" fill=\"#000000\" />\n",
       "<rect width=\".81\" height=\".81\" x=\"10\" y=\"17\" fill=\"#000000\" />\n",
       "<rect width=\".81\" height=\".81\" x=\"11\" y=\"17\" fill=\"#000000\" />\n",
       "<rect width=\".81\" height=\".81\" x=\"12\" y=\"17\" fill=\"#000000\" />\n",
       "<rect width=\".81\" height=\".81\" x=\"13\" y=\"17\" fill=\"#000000\" />\n",
       "<rect width=\".81\" height=\".81\" x=\"14\" y=\"17\" fill=\"#000000\" />\n",
       "<rect width=\".81\" height=\".81\" x=\"15\" y=\"17\" fill=\"#000000\" />\n",
       "<rect width=\".81\" height=\".81\" x=\"16\" y=\"17\" fill=\"#000000\" />\n",
       "<rect width=\".81\" height=\".81\" x=\"17\" y=\"17\" fill=\"#F9F9F9\" />\n",
       "<rect width=\".81\" height=\".81\" x=\"18\" y=\"17\" fill=\"#FDFDFD\" />\n",
       "<rect width=\".81\" height=\".81\" x=\"19\" y=\"17\" fill=\"#F9F9F9\" />\n",
       "<rect width=\".81\" height=\".81\" x=\"20\" y=\"17\" fill=\"#404040\" />\n",
       "<rect width=\".81\" height=\".81\" x=\"21\" y=\"17\" fill=\"#000000\" />\n",
       "<rect width=\".81\" height=\".81\" x=\"22\" y=\"17\" fill=\"#000000\" />\n",
       "<rect width=\".81\" height=\".81\" x=\"23\" y=\"17\" fill=\"#000000\" />\n",
       "<rect width=\".81\" height=\".81\" x=\"24\" y=\"17\" fill=\"#000000\" />\n",
       "<rect width=\".81\" height=\".81\" x=\"25\" y=\"17\" fill=\"#000000\" />\n",
       "<rect width=\".81\" height=\".81\" x=\"26\" y=\"17\" fill=\"#000000\" />\n",
       "<rect width=\".81\" height=\".81\" x=\"27\" y=\"17\" fill=\"#000000\" />\n",
       "<rect width=\".81\" height=\".81\" x=\"0\" y=\"18\" fill=\"#000000\" />\n",
       "<rect width=\".81\" height=\".81\" x=\"1\" y=\"18\" fill=\"#000000\" />\n",
       "<rect width=\".81\" height=\".81\" x=\"2\" y=\"18\" fill=\"#000000\" />\n",
       "<rect width=\".81\" height=\".81\" x=\"3\" y=\"18\" fill=\"#000000\" />\n",
       "<rect width=\".81\" height=\".81\" x=\"4\" y=\"18\" fill=\"#000000\" />\n",
       "<rect width=\".81\" height=\".81\" x=\"5\" y=\"18\" fill=\"#000000\" />\n",
       "<rect width=\".81\" height=\".81\" x=\"6\" y=\"18\" fill=\"#000000\" />\n",
       "<rect width=\".81\" height=\".81\" x=\"7\" y=\"18\" fill=\"#000000\" />\n",
       "<rect width=\".81\" height=\".81\" x=\"8\" y=\"18\" fill=\"#000000\" />\n",
       "<rect width=\".81\" height=\".81\" x=\"9\" y=\"18\" fill=\"#000000\" />\n",
       "<rect width=\".81\" height=\".81\" x=\"10\" y=\"18\" fill=\"#000000\" />\n",
       "<rect width=\".81\" height=\".81\" x=\"11\" y=\"18\" fill=\"#000000\" />\n",
       "<rect width=\".81\" height=\".81\" x=\"12\" y=\"18\" fill=\"#000000\" />\n",
       "<rect width=\".81\" height=\".81\" x=\"13\" y=\"18\" fill=\"#000000\" />\n",
       "<rect width=\".81\" height=\".81\" x=\"14\" y=\"18\" fill=\"#2E2E2E\" />\n",
       "<rect width=\".81\" height=\".81\" x=\"15\" y=\"18\" fill=\"#828282\" />\n",
       "<rect width=\".81\" height=\".81\" x=\"16\" y=\"18\" fill=\"#B7B7B7\" />\n",
       "<rect width=\".81\" height=\".81\" x=\"17\" y=\"18\" fill=\"#FDFDFD\" />\n",
       "<rect width=\".81\" height=\".81\" x=\"18\" y=\"18\" fill=\"#FDFDFD\" />\n",
       "<rect width=\".81\" height=\".81\" x=\"19\" y=\"18\" fill=\"#CFCFCF\" />\n",
       "<rect width=\".81\" height=\".81\" x=\"20\" y=\"18\" fill=\"#020202\" />\n",
       "<rect width=\".81\" height=\".81\" x=\"21\" y=\"18\" fill=\"#000000\" />\n",
       "<rect width=\".81\" height=\".81\" x=\"22\" y=\"18\" fill=\"#000000\" />\n",
       "<rect width=\".81\" height=\".81\" x=\"23\" y=\"18\" fill=\"#000000\" />\n",
       "<rect width=\".81\" height=\".81\" x=\"24\" y=\"18\" fill=\"#000000\" />\n",
       "<rect width=\".81\" height=\".81\" x=\"25\" y=\"18\" fill=\"#000000\" />\n",
       "<rect width=\".81\" height=\".81\" x=\"26\" y=\"18\" fill=\"#000000\" />\n",
       "<rect width=\".81\" height=\".81\" x=\"27\" y=\"18\" fill=\"#000000\" />\n",
       "<rect width=\".81\" height=\".81\" x=\"0\" y=\"19\" fill=\"#000000\" />\n",
       "<rect width=\".81\" height=\".81\" x=\"1\" y=\"19\" fill=\"#000000\" />\n",
       "<rect width=\".81\" height=\".81\" x=\"2\" y=\"19\" fill=\"#000000\" />\n",
       "<rect width=\".81\" height=\".81\" x=\"3\" y=\"19\" fill=\"#000000\" />\n",
       "<rect width=\".81\" height=\".81\" x=\"4\" y=\"19\" fill=\"#000000\" />\n",
       "<rect width=\".81\" height=\".81\" x=\"5\" y=\"19\" fill=\"#000000\" />\n",
       "<rect width=\".81\" height=\".81\" x=\"6\" y=\"19\" fill=\"#000000\" />\n",
       "<rect width=\".81\" height=\".81\" x=\"7\" y=\"19\" fill=\"#000000\" />\n",
       "<rect width=\".81\" height=\".81\" x=\"8\" y=\"19\" fill=\"#000000\" />\n",
       "<rect width=\".81\" height=\".81\" x=\"9\" y=\"19\" fill=\"#000000\" />\n",
       "<rect width=\".81\" height=\".81\" x=\"10\" y=\"19\" fill=\"#000000\" />\n",
       "<rect width=\".81\" height=\".81\" x=\"11\" y=\"19\" fill=\"#000000\" />\n",
       "<rect width=\".81\" height=\".81\" x=\"12\" y=\"19\" fill=\"#272727\" />\n",
       "<rect width=\".81\" height=\".81\" x=\"13\" y=\"19\" fill=\"#949494\" />\n",
       "<rect width=\".81\" height=\".81\" x=\"14\" y=\"19\" fill=\"#E5E5E5\" />\n",
       "<rect width=\".81\" height=\".81\" x=\"15\" y=\"19\" fill=\"#FDFDFD\" />\n",
       "<rect width=\".81\" height=\".81\" x=\"16\" y=\"19\" fill=\"#FDFDFD\" />\n",
       "<rect width=\".81\" height=\".81\" x=\"17\" y=\"19\" fill=\"#FDFDFD\" />\n",
       "<rect width=\".81\" height=\".81\" x=\"18\" y=\"19\" fill=\"#FAFAFA\" />\n",
       "<rect width=\".81\" height=\".81\" x=\"19\" y=\"19\" fill=\"#B6B6B6\" />\n",
       "<rect width=\".81\" height=\".81\" x=\"20\" y=\"19\" fill=\"#000000\" />\n",
       "<rect width=\".81\" height=\".81\" x=\"21\" y=\"19\" fill=\"#000000\" />\n",
       "<rect width=\".81\" height=\".81\" x=\"22\" y=\"19\" fill=\"#000000\" />\n",
       "<rect width=\".81\" height=\".81\" x=\"23\" y=\"19\" fill=\"#000000\" />\n",
       "<rect width=\".81\" height=\".81\" x=\"24\" y=\"19\" fill=\"#000000\" />\n",
       "<rect width=\".81\" height=\".81\" x=\"25\" y=\"19\" fill=\"#000000\" />\n",
       "<rect width=\".81\" height=\".81\" x=\"26\" y=\"19\" fill=\"#000000\" />\n",
       "<rect width=\".81\" height=\".81\" x=\"27\" y=\"19\" fill=\"#000000\" />\n",
       "<rect width=\".81\" height=\".81\" x=\"0\" y=\"20\" fill=\"#000000\" />\n",
       "<rect width=\".81\" height=\".81\" x=\"1\" y=\"20\" fill=\"#000000\" />\n",
       "<rect width=\".81\" height=\".81\" x=\"2\" y=\"20\" fill=\"#000000\" />\n",
       "<rect width=\".81\" height=\".81\" x=\"3\" y=\"20\" fill=\"#000000\" />\n",
       "<rect width=\".81\" height=\".81\" x=\"4\" y=\"20\" fill=\"#000000\" />\n",
       "<rect width=\".81\" height=\".81\" x=\"5\" y=\"20\" fill=\"#000000\" />\n",
       "<rect width=\".81\" height=\".81\" x=\"6\" y=\"20\" fill=\"#000000\" />\n",
       "<rect width=\".81\" height=\".81\" x=\"7\" y=\"20\" fill=\"#000000\" />\n",
       "<rect width=\".81\" height=\".81\" x=\"8\" y=\"20\" fill=\"#000000\" />\n",
       "<rect width=\".81\" height=\".81\" x=\"9\" y=\"20\" fill=\"#000000\" />\n",
       "<rect width=\".81\" height=\".81\" x=\"10\" y=\"20\" fill=\"#181818\" />\n",
       "<rect width=\".81\" height=\".81\" x=\"11\" y=\"20\" fill=\"#727272\" />\n",
       "<rect width=\".81\" height=\".81\" x=\"12\" y=\"20\" fill=\"#DDDDDD\" />\n",
       "<rect width=\".81\" height=\".81\" x=\"13\" y=\"20\" fill=\"#FDFDFD\" />\n",
       "<rect width=\".81\" height=\".81\" x=\"14\" y=\"20\" fill=\"#FDFDFD\" />\n",
       "<rect width=\".81\" height=\".81\" x=\"15\" y=\"20\" fill=\"#FDFDFD\" />\n",
       "<rect width=\".81\" height=\".81\" x=\"16\" y=\"20\" fill=\"#FDFDFD\" />\n",
       "<rect width=\".81\" height=\".81\" x=\"17\" y=\"20\" fill=\"#C9C9C9\" />\n",
       "<rect width=\".81\" height=\".81\" x=\"18\" y=\"20\" fill=\"#4E4E4E\" />\n",
       "<rect width=\".81\" height=\".81\" x=\"19\" y=\"20\" fill=\"#000000\" />\n",
       "<rect width=\".81\" height=\".81\" x=\"20\" y=\"20\" fill=\"#000000\" />\n",
       "<rect width=\".81\" height=\".81\" x=\"21\" y=\"20\" fill=\"#000000\" />\n",
       "<rect width=\".81\" height=\".81\" x=\"22\" y=\"20\" fill=\"#000000\" />\n",
       "<rect width=\".81\" height=\".81\" x=\"23\" y=\"20\" fill=\"#000000\" />\n",
       "<rect width=\".81\" height=\".81\" x=\"24\" y=\"20\" fill=\"#000000\" />\n",
       "<rect width=\".81\" height=\".81\" x=\"25\" y=\"20\" fill=\"#000000\" />\n",
       "<rect width=\".81\" height=\".81\" x=\"26\" y=\"20\" fill=\"#000000\" />\n",
       "<rect width=\".81\" height=\".81\" x=\"27\" y=\"20\" fill=\"#000000\" />\n",
       "<rect width=\".81\" height=\".81\" x=\"0\" y=\"21\" fill=\"#000000\" />\n",
       "<rect width=\".81\" height=\".81\" x=\"1\" y=\"21\" fill=\"#000000\" />\n",
       "<rect width=\".81\" height=\".81\" x=\"2\" y=\"21\" fill=\"#000000\" />\n",
       "<rect width=\".81\" height=\".81\" x=\"3\" y=\"21\" fill=\"#000000\" />\n",
       "<rect width=\".81\" height=\".81\" x=\"4\" y=\"21\" fill=\"#000000\" />\n",
       "<rect width=\".81\" height=\".81\" x=\"5\" y=\"21\" fill=\"#000000\" />\n",
       "<rect width=\".81\" height=\".81\" x=\"6\" y=\"21\" fill=\"#000000\" />\n",
       "<rect width=\".81\" height=\".81\" x=\"7\" y=\"21\" fill=\"#000000\" />\n",
       "<rect width=\".81\" height=\".81\" x=\"8\" y=\"21\" fill=\"#171717\" />\n",
       "<rect width=\".81\" height=\".81\" x=\"9\" y=\"21\" fill=\"#424242\" />\n",
       "<rect width=\".81\" height=\".81\" x=\"10\" y=\"21\" fill=\"#D5D5D5\" />\n",
       "<rect width=\".81\" height=\".81\" x=\"11\" y=\"21\" fill=\"#FDFDFD\" />\n",
       "<rect width=\".81\" height=\".81\" x=\"12\" y=\"21\" fill=\"#FDFDFD\" />\n",
       "<rect width=\".81\" height=\".81\" x=\"13\" y=\"21\" fill=\"#FDFDFD\" />\n",
       "<rect width=\".81\" height=\".81\" x=\"14\" y=\"21\" fill=\"#FDFDFD\" />\n",
       "<rect width=\".81\" height=\".81\" x=\"15\" y=\"21\" fill=\"#C6C6C6\" />\n",
       "<rect width=\".81\" height=\".81\" x=\"16\" y=\"21\" fill=\"#515151\" />\n",
       "<rect width=\".81\" height=\".81\" x=\"17\" y=\"21\" fill=\"#020202\" />\n",
       "<rect width=\".81\" height=\".81\" x=\"18\" y=\"21\" fill=\"#000000\" />\n",
       "<rect width=\".81\" height=\".81\" x=\"19\" y=\"21\" fill=\"#000000\" />\n",
       "<rect width=\".81\" height=\".81\" x=\"20\" y=\"21\" fill=\"#000000\" />\n",
       "<rect width=\".81\" height=\".81\" x=\"21\" y=\"21\" fill=\"#000000\" />\n",
       "<rect width=\".81\" height=\".81\" x=\"22\" y=\"21\" fill=\"#000000\" />\n",
       "<rect width=\".81\" height=\".81\" x=\"23\" y=\"21\" fill=\"#000000\" />\n",
       "<rect width=\".81\" height=\".81\" x=\"24\" y=\"21\" fill=\"#000000\" />\n",
       "<rect width=\".81\" height=\".81\" x=\"25\" y=\"21\" fill=\"#000000\" />\n",
       "<rect width=\".81\" height=\".81\" x=\"26\" y=\"21\" fill=\"#000000\" />\n",
       "<rect width=\".81\" height=\".81\" x=\"27\" y=\"21\" fill=\"#000000\" />\n",
       "<rect width=\".81\" height=\".81\" x=\"0\" y=\"22\" fill=\"#000000\" />\n",
       "<rect width=\".81\" height=\".81\" x=\"1\" y=\"22\" fill=\"#000000\" />\n",
       "<rect width=\".81\" height=\".81\" x=\"2\" y=\"22\" fill=\"#000000\" />\n",
       "<rect width=\".81\" height=\".81\" x=\"3\" y=\"22\" fill=\"#000000\" />\n",
       "<rect width=\".81\" height=\".81\" x=\"4\" y=\"22\" fill=\"#000000\" />\n",
       "<rect width=\".81\" height=\".81\" x=\"5\" y=\"22\" fill=\"#000000\" />\n",
       "<rect width=\".81\" height=\".81\" x=\"6\" y=\"22\" fill=\"#121212\" />\n",
       "<rect width=\".81\" height=\".81\" x=\"7\" y=\"22\" fill=\"#ABABAB\" />\n",
       "<rect width=\".81\" height=\".81\" x=\"8\" y=\"22\" fill=\"#DBDBDB\" />\n",
       "<rect width=\".81\" height=\".81\" x=\"9\" y=\"22\" fill=\"#FDFDFD\" />\n",
       "<rect width=\".81\" height=\".81\" x=\"10\" y=\"22\" fill=\"#FDFDFD\" />\n",
       "<rect width=\".81\" height=\".81\" x=\"11\" y=\"22\" fill=\"#FDFDFD\" />\n",
       "<rect width=\".81\" height=\".81\" x=\"12\" y=\"22\" fill=\"#FDFDFD\" />\n",
       "<rect width=\".81\" height=\".81\" x=\"13\" y=\"22\" fill=\"#C3C3C3\" />\n",
       "<rect width=\".81\" height=\".81\" x=\"14\" y=\"22\" fill=\"#505050\" />\n",
       "<rect width=\".81\" height=\".81\" x=\"15\" y=\"22\" fill=\"#090909\" />\n",
       "<rect width=\".81\" height=\".81\" x=\"16\" y=\"22\" fill=\"#000000\" />\n",
       "<rect width=\".81\" height=\".81\" x=\"17\" y=\"22\" fill=\"#000000\" />\n",
       "<rect width=\".81\" height=\".81\" x=\"18\" y=\"22\" fill=\"#000000\" />\n",
       "<rect width=\".81\" height=\".81\" x=\"19\" y=\"22\" fill=\"#000000\" />\n",
       "<rect width=\".81\" height=\".81\" x=\"20\" y=\"22\" fill=\"#000000\" />\n",
       "<rect width=\".81\" height=\".81\" x=\"21\" y=\"22\" fill=\"#000000\" />\n",
       "<rect width=\".81\" height=\".81\" x=\"22\" y=\"22\" fill=\"#000000\" />\n",
       "<rect width=\".81\" height=\".81\" x=\"23\" y=\"22\" fill=\"#000000\" />\n",
       "<rect width=\".81\" height=\".81\" x=\"24\" y=\"22\" fill=\"#000000\" />\n",
       "<rect width=\".81\" height=\".81\" x=\"25\" y=\"22\" fill=\"#000000\" />\n",
       "<rect width=\".81\" height=\".81\" x=\"26\" y=\"22\" fill=\"#000000\" />\n",
       "<rect width=\".81\" height=\".81\" x=\"27\" y=\"22\" fill=\"#000000\" />\n",
       "<rect width=\".81\" height=\".81\" x=\"0\" y=\"23\" fill=\"#000000\" />\n",
       "<rect width=\".81\" height=\".81\" x=\"1\" y=\"23\" fill=\"#000000\" />\n",
       "<rect width=\".81\" height=\".81\" x=\"2\" y=\"23\" fill=\"#000000\" />\n",
       "<rect width=\".81\" height=\".81\" x=\"3\" y=\"23\" fill=\"#000000\" />\n",
       "<rect width=\".81\" height=\".81\" x=\"4\" y=\"23\" fill=\"#373737\" />\n",
       "<rect width=\".81\" height=\".81\" x=\"5\" y=\"23\" fill=\"#ACACAC\" />\n",
       "<rect width=\".81\" height=\".81\" x=\"6\" y=\"23\" fill=\"#E2E2E2\" />\n",
       "<rect width=\".81\" height=\".81\" x=\"7\" y=\"23\" fill=\"#FDFDFD\" />\n",
       "<rect width=\".81\" height=\".81\" x=\"8\" y=\"23\" fill=\"#FDFDFD\" />\n",
       "<rect width=\".81\" height=\".81\" x=\"9\" y=\"23\" fill=\"#FDFDFD\" />\n",
       "<rect width=\".81\" height=\".81\" x=\"10\" y=\"23\" fill=\"#FDFDFD\" />\n",
       "<rect width=\".81\" height=\".81\" x=\"11\" y=\"23\" fill=\"#F4F4F4\" />\n",
       "<rect width=\".81\" height=\".81\" x=\"12\" y=\"23\" fill=\"#858585\" />\n",
       "<rect width=\".81\" height=\".81\" x=\"13\" y=\"23\" fill=\"#0B0B0B\" />\n",
       "<rect width=\".81\" height=\".81\" x=\"14\" y=\"23\" fill=\"#000000\" />\n",
       "<rect width=\".81\" height=\".81\" x=\"15\" y=\"23\" fill=\"#000000\" />\n",
       "<rect width=\".81\" height=\".81\" x=\"16\" y=\"23\" fill=\"#000000\" />\n",
       "<rect width=\".81\" height=\".81\" x=\"17\" y=\"23\" fill=\"#000000\" />\n",
       "<rect width=\".81\" height=\".81\" x=\"18\" y=\"23\" fill=\"#000000\" />\n",
       "<rect width=\".81\" height=\".81\" x=\"19\" y=\"23\" fill=\"#000000\" />\n",
       "<rect width=\".81\" height=\".81\" x=\"20\" y=\"23\" fill=\"#000000\" />\n",
       "<rect width=\".81\" height=\".81\" x=\"21\" y=\"23\" fill=\"#000000\" />\n",
       "<rect width=\".81\" height=\".81\" x=\"22\" y=\"23\" fill=\"#000000\" />\n",
       "<rect width=\".81\" height=\".81\" x=\"23\" y=\"23\" fill=\"#000000\" />\n",
       "<rect width=\".81\" height=\".81\" x=\"24\" y=\"23\" fill=\"#000000\" />\n",
       "<rect width=\".81\" height=\".81\" x=\"25\" y=\"23\" fill=\"#000000\" />\n",
       "<rect width=\".81\" height=\".81\" x=\"26\" y=\"23\" fill=\"#000000\" />\n",
       "<rect width=\".81\" height=\".81\" x=\"27\" y=\"23\" fill=\"#000000\" />\n",
       "<rect width=\".81\" height=\".81\" x=\"0\" y=\"24\" fill=\"#000000\" />\n",
       "<rect width=\".81\" height=\".81\" x=\"1\" y=\"24\" fill=\"#000000\" />\n",
       "<rect width=\".81\" height=\".81\" x=\"2\" y=\"24\" fill=\"#000000\" />\n",
       "<rect width=\".81\" height=\".81\" x=\"3\" y=\"24\" fill=\"#000000\" />\n",
       "<rect width=\".81\" height=\".81\" x=\"4\" y=\"24\" fill=\"#888888\" />\n",
       "<rect width=\".81\" height=\".81\" x=\"5\" y=\"24\" fill=\"#FDFDFD\" />\n",
       "<rect width=\".81\" height=\".81\" x=\"6\" y=\"24\" fill=\"#FDFDFD\" />\n",
       "<rect width=\".81\" height=\".81\" x=\"7\" y=\"24\" fill=\"#FDFDFD\" />\n",
       "<rect width=\".81\" height=\".81\" x=\"8\" y=\"24\" fill=\"#D4D4D4\" />\n",
       "<rect width=\".81\" height=\".81\" x=\"9\" y=\"24\" fill=\"#878787\" />\n",
       "<rect width=\".81\" height=\".81\" x=\"10\" y=\"24\" fill=\"#848484\" />\n",
       "<rect width=\".81\" height=\".81\" x=\"11\" y=\"24\" fill=\"#101010\" />\n",
       "<rect width=\".81\" height=\".81\" x=\"12\" y=\"24\" fill=\"#000000\" />\n",
       "<rect width=\".81\" height=\".81\" x=\"13\" y=\"24\" fill=\"#000000\" />\n",
       "<rect width=\".81\" height=\".81\" x=\"14\" y=\"24\" fill=\"#000000\" />\n",
       "<rect width=\".81\" height=\".81\" x=\"15\" y=\"24\" fill=\"#000000\" />\n",
       "<rect width=\".81\" height=\".81\" x=\"16\" y=\"24\" fill=\"#000000\" />\n",
       "<rect width=\".81\" height=\".81\" x=\"17\" y=\"24\" fill=\"#000000\" />\n",
       "<rect width=\".81\" height=\".81\" x=\"18\" y=\"24\" fill=\"#000000\" />\n",
       "<rect width=\".81\" height=\".81\" x=\"19\" y=\"24\" fill=\"#000000\" />\n",
       "<rect width=\".81\" height=\".81\" x=\"20\" y=\"24\" fill=\"#000000\" />\n",
       "<rect width=\".81\" height=\".81\" x=\"21\" y=\"24\" fill=\"#000000\" />\n",
       "<rect width=\".81\" height=\".81\" x=\"22\" y=\"24\" fill=\"#000000\" />\n",
       "<rect width=\".81\" height=\".81\" x=\"23\" y=\"24\" fill=\"#000000\" />\n",
       "<rect width=\".81\" height=\".81\" x=\"24\" y=\"24\" fill=\"#000000\" />\n",
       "<rect width=\".81\" height=\".81\" x=\"25\" y=\"24\" fill=\"#000000\" />\n",
       "<rect width=\".81\" height=\".81\" x=\"26\" y=\"24\" fill=\"#000000\" />\n",
       "<rect width=\".81\" height=\".81\" x=\"27\" y=\"24\" fill=\"#000000\" />\n",
       "<rect width=\".81\" height=\".81\" x=\"0\" y=\"25\" fill=\"#000000\" />\n",
       "<rect width=\".81\" height=\".81\" x=\"1\" y=\"25\" fill=\"#000000\" />\n",
       "<rect width=\".81\" height=\".81\" x=\"2\" y=\"25\" fill=\"#000000\" />\n",
       "<rect width=\".81\" height=\".81\" x=\"3\" y=\"25\" fill=\"#000000\" />\n",
       "<rect width=\".81\" height=\".81\" x=\"4\" y=\"25\" fill=\"#000000\" />\n",
       "<rect width=\".81\" height=\".81\" x=\"5\" y=\"25\" fill=\"#000000\" />\n",
       "<rect width=\".81\" height=\".81\" x=\"6\" y=\"25\" fill=\"#000000\" />\n",
       "<rect width=\".81\" height=\".81\" x=\"7\" y=\"25\" fill=\"#000000\" />\n",
       "<rect width=\".81\" height=\".81\" x=\"8\" y=\"25\" fill=\"#000000\" />\n",
       "<rect width=\".81\" height=\".81\" x=\"9\" y=\"25\" fill=\"#000000\" />\n",
       "<rect width=\".81\" height=\".81\" x=\"10\" y=\"25\" fill=\"#000000\" />\n",
       "<rect width=\".81\" height=\".81\" x=\"11\" y=\"25\" fill=\"#000000\" />\n",
       "<rect width=\".81\" height=\".81\" x=\"12\" y=\"25\" fill=\"#000000\" />\n",
       "<rect width=\".81\" height=\".81\" x=\"13\" y=\"25\" fill=\"#000000\" />\n",
       "<rect width=\".81\" height=\".81\" x=\"14\" y=\"25\" fill=\"#000000\" />\n",
       "<rect width=\".81\" height=\".81\" x=\"15\" y=\"25\" fill=\"#000000\" />\n",
       "<rect width=\".81\" height=\".81\" x=\"16\" y=\"25\" fill=\"#000000\" />\n",
       "<rect width=\".81\" height=\".81\" x=\"17\" y=\"25\" fill=\"#000000\" />\n",
       "<rect width=\".81\" height=\".81\" x=\"18\" y=\"25\" fill=\"#000000\" />\n",
       "<rect width=\".81\" height=\".81\" x=\"19\" y=\"25\" fill=\"#000000\" />\n",
       "<rect width=\".81\" height=\".81\" x=\"20\" y=\"25\" fill=\"#000000\" />\n",
       "<rect width=\".81\" height=\".81\" x=\"21\" y=\"25\" fill=\"#000000\" />\n",
       "<rect width=\".81\" height=\".81\" x=\"22\" y=\"25\" fill=\"#000000\" />\n",
       "<rect width=\".81\" height=\".81\" x=\"23\" y=\"25\" fill=\"#000000\" />\n",
       "<rect width=\".81\" height=\".81\" x=\"24\" y=\"25\" fill=\"#000000\" />\n",
       "<rect width=\".81\" height=\".81\" x=\"25\" y=\"25\" fill=\"#000000\" />\n",
       "<rect width=\".81\" height=\".81\" x=\"26\" y=\"25\" fill=\"#000000\" />\n",
       "<rect width=\".81\" height=\".81\" x=\"27\" y=\"25\" fill=\"#000000\" />\n",
       "<rect width=\".81\" height=\".81\" x=\"0\" y=\"26\" fill=\"#000000\" />\n",
       "<rect width=\".81\" height=\".81\" x=\"1\" y=\"26\" fill=\"#000000\" />\n",
       "<rect width=\".81\" height=\".81\" x=\"2\" y=\"26\" fill=\"#000000\" />\n",
       "<rect width=\".81\" height=\".81\" x=\"3\" y=\"26\" fill=\"#000000\" />\n",
       "<rect width=\".81\" height=\".81\" x=\"4\" y=\"26\" fill=\"#000000\" />\n",
       "<rect width=\".81\" height=\".81\" x=\"5\" y=\"26\" fill=\"#000000\" />\n",
       "<rect width=\".81\" height=\".81\" x=\"6\" y=\"26\" fill=\"#000000\" />\n",
       "<rect width=\".81\" height=\".81\" x=\"7\" y=\"26\" fill=\"#000000\" />\n",
       "<rect width=\".81\" height=\".81\" x=\"8\" y=\"26\" fill=\"#000000\" />\n",
       "<rect width=\".81\" height=\".81\" x=\"9\" y=\"26\" fill=\"#000000\" />\n",
       "<rect width=\".81\" height=\".81\" x=\"10\" y=\"26\" fill=\"#000000\" />\n",
       "<rect width=\".81\" height=\".81\" x=\"11\" y=\"26\" fill=\"#000000\" />\n",
       "<rect width=\".81\" height=\".81\" x=\"12\" y=\"26\" fill=\"#000000\" />\n",
       "<rect width=\".81\" height=\".81\" x=\"13\" y=\"26\" fill=\"#000000\" />\n",
       "<rect width=\".81\" height=\".81\" x=\"14\" y=\"26\" fill=\"#000000\" />\n",
       "<rect width=\".81\" height=\".81\" x=\"15\" y=\"26\" fill=\"#000000\" />\n",
       "<rect width=\".81\" height=\".81\" x=\"16\" y=\"26\" fill=\"#000000\" />\n",
       "<rect width=\".81\" height=\".81\" x=\"17\" y=\"26\" fill=\"#000000\" />\n",
       "<rect width=\".81\" height=\".81\" x=\"18\" y=\"26\" fill=\"#000000\" />\n",
       "<rect width=\".81\" height=\".81\" x=\"19\" y=\"26\" fill=\"#000000\" />\n",
       "<rect width=\".81\" height=\".81\" x=\"20\" y=\"26\" fill=\"#000000\" />\n",
       "<rect width=\".81\" height=\".81\" x=\"21\" y=\"26\" fill=\"#000000\" />\n",
       "<rect width=\".81\" height=\".81\" x=\"22\" y=\"26\" fill=\"#000000\" />\n",
       "<rect width=\".81\" height=\".81\" x=\"23\" y=\"26\" fill=\"#000000\" />\n",
       "<rect width=\".81\" height=\".81\" x=\"24\" y=\"26\" fill=\"#000000\" />\n",
       "<rect width=\".81\" height=\".81\" x=\"25\" y=\"26\" fill=\"#000000\" />\n",
       "<rect width=\".81\" height=\".81\" x=\"26\" y=\"26\" fill=\"#000000\" />\n",
       "<rect width=\".81\" height=\".81\" x=\"27\" y=\"26\" fill=\"#000000\" />\n",
       "<rect width=\".81\" height=\".81\" x=\"0\" y=\"27\" fill=\"#000000\" />\n",
       "<rect width=\".81\" height=\".81\" x=\"1\" y=\"27\" fill=\"#000000\" />\n",
       "<rect width=\".81\" height=\".81\" x=\"2\" y=\"27\" fill=\"#000000\" />\n",
       "<rect width=\".81\" height=\".81\" x=\"3\" y=\"27\" fill=\"#000000\" />\n",
       "<rect width=\".81\" height=\".81\" x=\"4\" y=\"27\" fill=\"#000000\" />\n",
       "<rect width=\".81\" height=\".81\" x=\"5\" y=\"27\" fill=\"#000000\" />\n",
       "<rect width=\".81\" height=\".81\" x=\"6\" y=\"27\" fill=\"#000000\" />\n",
       "<rect width=\".81\" height=\".81\" x=\"7\" y=\"27\" fill=\"#000000\" />\n",
       "<rect width=\".81\" height=\".81\" x=\"8\" y=\"27\" fill=\"#000000\" />\n",
       "<rect width=\".81\" height=\".81\" x=\"9\" y=\"27\" fill=\"#000000\" />\n",
       "<rect width=\".81\" height=\".81\" x=\"10\" y=\"27\" fill=\"#000000\" />\n",
       "<rect width=\".81\" height=\".81\" x=\"11\" y=\"27\" fill=\"#000000\" />\n",
       "<rect width=\".81\" height=\".81\" x=\"12\" y=\"27\" fill=\"#000000\" />\n",
       "<rect width=\".81\" height=\".81\" x=\"13\" y=\"27\" fill=\"#000000\" />\n",
       "<rect width=\".81\" height=\".81\" x=\"14\" y=\"27\" fill=\"#000000\" />\n",
       "<rect width=\".81\" height=\".81\" x=\"15\" y=\"27\" fill=\"#000000\" />\n",
       "<rect width=\".81\" height=\".81\" x=\"16\" y=\"27\" fill=\"#000000\" />\n",
       "<rect width=\".81\" height=\".81\" x=\"17\" y=\"27\" fill=\"#000000\" />\n",
       "<rect width=\".81\" height=\".81\" x=\"18\" y=\"27\" fill=\"#000000\" />\n",
       "<rect width=\".81\" height=\".81\" x=\"19\" y=\"27\" fill=\"#000000\" />\n",
       "<rect width=\".81\" height=\".81\" x=\"20\" y=\"27\" fill=\"#000000\" />\n",
       "<rect width=\".81\" height=\".81\" x=\"21\" y=\"27\" fill=\"#000000\" />\n",
       "<rect width=\".81\" height=\".81\" x=\"22\" y=\"27\" fill=\"#000000\" />\n",
       "<rect width=\".81\" height=\".81\" x=\"23\" y=\"27\" fill=\"#000000\" />\n",
       "<rect width=\".81\" height=\".81\" x=\"24\" y=\"27\" fill=\"#000000\" />\n",
       "<rect width=\".81\" height=\".81\" x=\"25\" y=\"27\" fill=\"#000000\" />\n",
       "<rect width=\".81\" height=\".81\" x=\"26\" y=\"27\" fill=\"#000000\" />\n",
       "<rect width=\".81\" height=\".81\" x=\"27\" y=\"27\" fill=\"#000000\" />\n",
       "</svg>"
      ],
      "text/plain": [
       "28×28 reinterpret(Gray{N0f8}, ::Array{N0f8,2}):\n",
       " Gray{N0f8}(0.0)  Gray{N0f8}(0.0)  …  Gray{N0f8}(0.0)  Gray{N0f8}(0.0)\n",
       " Gray{N0f8}(0.0)  Gray{N0f8}(0.0)     Gray{N0f8}(0.0)  Gray{N0f8}(0.0)\n",
       " Gray{N0f8}(0.0)  Gray{N0f8}(0.0)     Gray{N0f8}(0.0)  Gray{N0f8}(0.0)\n",
       " Gray{N0f8}(0.0)  Gray{N0f8}(0.0)     Gray{N0f8}(0.0)  Gray{N0f8}(0.0)\n",
       " Gray{N0f8}(0.0)  Gray{N0f8}(0.0)     Gray{N0f8}(0.0)  Gray{N0f8}(0.0)\n",
       " Gray{N0f8}(0.0)  Gray{N0f8}(0.0)  …  Gray{N0f8}(0.0)  Gray{N0f8}(0.0)\n",
       " Gray{N0f8}(0.0)  Gray{N0f8}(0.0)     Gray{N0f8}(0.0)  Gray{N0f8}(0.0)\n",
       " Gray{N0f8}(0.0)  Gray{N0f8}(0.0)     Gray{N0f8}(0.0)  Gray{N0f8}(0.0)\n",
       " Gray{N0f8}(0.0)  Gray{N0f8}(0.0)     Gray{N0f8}(0.0)  Gray{N0f8}(0.0)\n",
       " Gray{N0f8}(0.0)  Gray{N0f8}(0.0)     Gray{N0f8}(0.0)  Gray{N0f8}(0.0)\n",
       " Gray{N0f8}(0.0)  Gray{N0f8}(0.0)  …  Gray{N0f8}(0.0)  Gray{N0f8}(0.0)\n",
       " Gray{N0f8}(0.0)  Gray{N0f8}(0.0)     Gray{N0f8}(0.0)  Gray{N0f8}(0.0)\n",
       " Gray{N0f8}(0.0)  Gray{N0f8}(0.0)     Gray{N0f8}(0.0)  Gray{N0f8}(0.0)\n",
       " ⋮                                 ⋱                   \n",
       " Gray{N0f8}(0.0)  Gray{N0f8}(0.0)     Gray{N0f8}(0.0)  Gray{N0f8}(0.0)\n",
       " Gray{N0f8}(0.0)  Gray{N0f8}(0.0)     Gray{N0f8}(0.0)  Gray{N0f8}(0.0)\n",
       " Gray{N0f8}(0.0)  Gray{N0f8}(0.0)     Gray{N0f8}(0.0)  Gray{N0f8}(0.0)\n",
       " Gray{N0f8}(0.0)  Gray{N0f8}(0.0)     Gray{N0f8}(0.0)  Gray{N0f8}(0.0)\n",
       " Gray{N0f8}(0.0)  Gray{N0f8}(0.0)  …  Gray{N0f8}(0.0)  Gray{N0f8}(0.0)\n",
       " Gray{N0f8}(0.0)  Gray{N0f8}(0.0)     Gray{N0f8}(0.0)  Gray{N0f8}(0.0)\n",
       " Gray{N0f8}(0.0)  Gray{N0f8}(0.0)     Gray{N0f8}(0.0)  Gray{N0f8}(0.0)\n",
       " Gray{N0f8}(0.0)  Gray{N0f8}(0.0)     Gray{N0f8}(0.0)  Gray{N0f8}(0.0)\n",
       " Gray{N0f8}(0.0)  Gray{N0f8}(0.0)     Gray{N0f8}(0.0)  Gray{N0f8}(0.0)\n",
       " Gray{N0f8}(0.0)  Gray{N0f8}(0.0)  …  Gray{N0f8}(0.0)  Gray{N0f8}(0.0)\n",
       " Gray{N0f8}(0.0)  Gray{N0f8}(0.0)     Gray{N0f8}(0.0)  Gray{N0f8}(0.0)\n",
       " Gray{N0f8}(0.0)  Gray{N0f8}(0.0)     Gray{N0f8}(0.0)  Gray{N0f8}(0.0)"
      ]
     },
     "execution_count": 24,
     "metadata": {},
     "output_type": "execute_result"
    }
   ],
   "source": [
    "using ImageCore\n",
    "digitsMNISTtrain_x, digitsMNISTtrain_y = MNIST.traindata()\n",
    "digitsMNISTtest_x,  digitsMNISTtest_y  = MNIST.testdata()\n",
    "@show size(digitsMNISTtrain_x)\n",
    "@show size(digitsMNISTtest_x)\n",
    "@show digitsMNISTtrain_y[1]\n",
    "MNIST.convert2image(digitsMNISTtrain_x[:,:,1])"
   ]
  },
  {
   "cell_type": "code",
   "execution_count": 38,
   "metadata": {},
   "outputs": [
    {
     "data": {
      "image/png": "[encoded data removed]"
     },
     "execution_count": 38,
     "metadata": {},
     "output_type": "execute_result"
    }
   ],
   "source": [
    "using Plots; pyplot()\n",
    "totalDim = 100\n",
    "img = zeros(100,100);\n",
    "x , y = rand(1:72),rand(1:72)\n",
    "img[x:(x+27),y:(y+27)] = digitsMNISTtrain_x[:,:,1]\n",
    "heatmap(img',yflip=true,legend=false,color=:greys)"
   ]
  },
  {
   "cell_type": "code",
   "execution_count": 113,
   "metadata": {},
   "outputs": [],
   "source": [
    "using Random\n",
    "Random.seed!(0)\n",
    "\n",
    "dataLen = 1000\n",
    "xData = zeros(totalDim,totalDim,1,dataLen);\n",
    "yData = zeros(13,dataLen);  #pc, x, y, 10 classes\n",
    "\n",
    "for i in 1:dataLen\n",
    "    img = zeros(100,100);\n",
    "    x , y = rand(1:72),rand(1:72)\n",
    "    if rand() < 0.8\n",
    "        xData[x:(x+27),y:(y+27),1,i] = digitsMNISTtrain_x[:,:,i]\n",
    "        yData[1,i] = 1\n",
    "        yData[2,i] = x\n",
    "        yData[3,i] = y\n",
    "        yData[4+digitsMNISTtrain_y[i],i] = 1\n",
    "    end\n",
    "    xData[:,:,1,i] += 0.2*rand(totalDim,totalDim)\n",
    "end"
   ]
  },
  {
   "cell_type": "code",
   "execution_count": 114,
   "metadata": {},
   "outputs": [
    {
     "data": {
      "image/png": "[encoded data removed]"
     },
     "execution_count": 114,
     "metadata": {},
     "output_type": "execute_result"
    }
   ],
   "source": [
    "heatmap(xData[:,:,1,10]',yflip=true,legend=false,color=:greys)"
   ]
  },
  {
   "cell_type": "code",
   "execution_count": 150,
   "metadata": {},
   "outputs": [
    {
     "data": {
      "text/plain": [
       "Chain(Conv((3, 3), 1=>8, relu), BatchNorm(8), #96, Conv((3, 3), 8=>4, relu), BatchNorm(4), #97, flatten, Dense(2116, 80, relu), #98)"
      ]
     },
     "execution_count": 150,
     "metadata": {},
     "output_type": "execute_result"
    }
   ],
   "source": [
    "using Flux\n",
    "\n",
    "function buildLocalizationModel()\n",
    "    Chain(  #Assuming 100x100\n",
    "      Conv((3, 3), 1 => 8, relu, pad=(0, 0), stride=(1, 1)),   \n",
    "      BatchNorm(8),\n",
    "      x -> maxpool(x, (2, 2)),  #16x16x8\n",
    "      Conv((3, 3), 8 => 4, relu, pad=(0, 0), stride=(1, 1)), #14x14x4  convolutional layer\n",
    "      BatchNorm(4),\n",
    "      x -> maxpool(x, (2, 2)), #7x7x4 ,\n",
    "      flatten,  #196 neurons\n",
    "      Dense(2116, 80, relu),\n",
    "      (prev)->vcat( sigmoid.(Dense(80,1)(prev)),\n",
    "                    Dense(80,1)(prev),\n",
    "                    Dense(80,1)(prev),\n",
    "                    softmax(Dense(80,10)(prev))...)\n",
    "    )\n",
    "end\n",
    "\n",
    "modelLocalization = buildLocalizationModel()"
   ]
  },
  {
   "cell_type": "code",
   "execution_count": 151,
   "metadata": {},
   "outputs": [
    {
     "data": {
      "text/plain": [
       "13×1 Array{Float32,2}:\n",
       "  0.495603\n",
       " -0.020295162\n",
       " -0.0145284915\n",
       "  0.096858144\n",
       "  0.10102488\n",
       "  0.102372065\n",
       "  0.102341905\n",
       "  0.10374058\n",
       "  0.09806526\n",
       "  0.09576972\n",
       "  0.10160684\n",
       "  0.09938787\n",
       "  0.09883269"
      ]
     },
     "execution_count": 151,
     "metadata": {},
     "output_type": "execute_result"
    }
   ],
   "source": [
    "sampleImage = xData[:,:,:,[10]]\n",
    "# debugModel(modelLocalization)\n",
    "modelLocalization(sampleImage)"
   ]
  },
  {
   "cell_type": "markdown",
   "metadata": {},
   "source": [
    "**Extra task:** Finish off the simple localization example."
   ]
  },
  {
   "cell_type": "code",
   "execution_count": null,
   "metadata": {},
   "outputs": [],
   "source": []
  }
 ],
 "metadata": {
  "@webio": {
   "lastCommId": null,
   "lastKernelId": null
  },
  "kernelspec": {
   "display_name": "Julia 1.5.3",
   "language": "julia",
   "name": "julia-1.5"
  },
  "language_info": {
   "file_extension": ".jl",
   "mimetype": "application/julia",
   "name": "julia",
   "version": "1.5.3"
  }
 },
 "nbformat": 4,
 "nbformat_minor": 4
}
